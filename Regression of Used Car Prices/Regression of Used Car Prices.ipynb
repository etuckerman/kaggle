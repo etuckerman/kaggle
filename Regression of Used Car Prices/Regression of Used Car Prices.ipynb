{
 "cells": [
  {
   "cell_type": "code",
   "execution_count": 1,
   "id": "0950828b",
   "metadata": {
    "_cell_guid": "b1076dfc-b9ad-4769-8c92-a6c4dae69d19",
    "_uuid": "8f2839f25d086af736a60e9eeb907d3b93b6e0e5",
    "execution": {
     "iopub.execute_input": "2024-09-03T18:06:00.114299Z",
     "iopub.status.busy": "2024-09-03T18:06:00.113822Z",
     "iopub.status.idle": "2024-09-03T18:06:02.564816Z",
     "shell.execute_reply": "2024-09-03T18:06:02.563134Z"
    },
    "papermill": {
     "duration": 2.465311,
     "end_time": "2024-09-03T18:06:02.567804",
     "exception": false,
     "start_time": "2024-09-03T18:06:00.102493",
     "status": "completed"
    },
    "tags": []
   },
   "outputs": [],
   "source": [
    "import pandas as pd\n",
    "from sklearn.ensemble import RandomForestRegressor\n",
    "from sklearn.compose import ColumnTransformer\n",
    "from sklearn.pipeline import Pipeline\n",
    "from sklearn.preprocessing import StandardScaler, OrdinalEncoder\n",
    "from sklearn.impute import SimpleImputer\n",
    "from sklearn.metrics import mean_squared_error\n",
    "import numpy as np\n"
   ]
  },
  {
   "cell_type": "code",
   "execution_count": 2,
   "id": "7d499b75",
   "metadata": {
    "execution": {
     "iopub.execute_input": "2024-09-03T18:06:02.588480Z",
     "iopub.status.busy": "2024-09-03T18:06:02.586939Z",
     "iopub.status.idle": "2024-09-03T18:06:04.499792Z",
     "shell.execute_reply": "2024-09-03T18:06:04.498668Z"
    },
    "papermill": {
     "duration": 1.92611,
     "end_time": "2024-09-03T18:06:04.502554",
     "exception": false,
     "start_time": "2024-09-03T18:06:02.576444",
     "status": "completed"
    },
    "tags": []
   },
   "outputs": [],
   "source": [
    "df_train = pd.read_csv('/kaggle/input/playground-series-s4e9/train.csv', index_col='id')\n",
    "df_test = pd.read_csv('/kaggle/input/playground-series-s4e9/test.csv', index_col='id')\n",
    "df_sub = pd.read_csv('/kaggle/input/playground-series-s4e9/sample_submission.csv')"
   ]
  },
  {
   "cell_type": "code",
   "execution_count": 3,
   "id": "e2b48e5a",
   "metadata": {
    "execution": {
     "iopub.execute_input": "2024-09-03T18:06:04.522490Z",
     "iopub.status.busy": "2024-09-03T18:06:04.522018Z",
     "iopub.status.idle": "2024-09-03T18:06:04.545295Z",
     "shell.execute_reply": "2024-09-03T18:06:04.544047Z"
    },
    "papermill": {
     "duration": 0.03598,
     "end_time": "2024-09-03T18:06:04.548124",
     "exception": false,
     "start_time": "2024-09-03T18:06:04.512144",
     "status": "completed"
    },
    "tags": []
   },
   "outputs": [
    {
     "data": {
      "text/html": [
       "<div>\n",
       "<style scoped>\n",
       "    .dataframe tbody tr th:only-of-type {\n",
       "        vertical-align: middle;\n",
       "    }\n",
       "\n",
       "    .dataframe tbody tr th {\n",
       "        vertical-align: top;\n",
       "    }\n",
       "\n",
       "    .dataframe thead th {\n",
       "        text-align: right;\n",
       "    }\n",
       "</style>\n",
       "<table border=\"1\" class=\"dataframe\">\n",
       "  <thead>\n",
       "    <tr style=\"text-align: right;\">\n",
       "      <th></th>\n",
       "      <th>brand</th>\n",
       "      <th>model</th>\n",
       "      <th>model_year</th>\n",
       "      <th>milage</th>\n",
       "      <th>fuel_type</th>\n",
       "      <th>engine</th>\n",
       "      <th>transmission</th>\n",
       "      <th>ext_col</th>\n",
       "      <th>int_col</th>\n",
       "      <th>accident</th>\n",
       "      <th>clean_title</th>\n",
       "    </tr>\n",
       "    <tr>\n",
       "      <th>id</th>\n",
       "      <th></th>\n",
       "      <th></th>\n",
       "      <th></th>\n",
       "      <th></th>\n",
       "      <th></th>\n",
       "      <th></th>\n",
       "      <th></th>\n",
       "      <th></th>\n",
       "      <th></th>\n",
       "      <th></th>\n",
       "      <th></th>\n",
       "    </tr>\n",
       "  </thead>\n",
       "  <tbody>\n",
       "    <tr>\n",
       "      <th>188533</th>\n",
       "      <td>Land</td>\n",
       "      <td>Rover LR2 Base</td>\n",
       "      <td>2015</td>\n",
       "      <td>98000</td>\n",
       "      <td>Gasoline</td>\n",
       "      <td>240.0HP 2.0L 4 Cylinder Engine Gasoline Fuel</td>\n",
       "      <td>6-Speed A/T</td>\n",
       "      <td>White</td>\n",
       "      <td>Beige</td>\n",
       "      <td>None reported</td>\n",
       "      <td>Yes</td>\n",
       "    </tr>\n",
       "    <tr>\n",
       "      <th>188534</th>\n",
       "      <td>Land</td>\n",
       "      <td>Rover Defender SE</td>\n",
       "      <td>2020</td>\n",
       "      <td>9142</td>\n",
       "      <td>Hybrid</td>\n",
       "      <td>395.0HP 3.0L Straight 6 Cylinder Engine Gasoli...</td>\n",
       "      <td>8-Speed A/T</td>\n",
       "      <td>Silver</td>\n",
       "      <td>Black</td>\n",
       "      <td>None reported</td>\n",
       "      <td>Yes</td>\n",
       "    </tr>\n",
       "    <tr>\n",
       "      <th>188535</th>\n",
       "      <td>Ford</td>\n",
       "      <td>Expedition Limited</td>\n",
       "      <td>2022</td>\n",
       "      <td>28121</td>\n",
       "      <td>Gasoline</td>\n",
       "      <td>3.5L V6 24V PDI DOHC Twin Turbo</td>\n",
       "      <td>10-Speed Automatic</td>\n",
       "      <td>White</td>\n",
       "      <td>Ebony</td>\n",
       "      <td>None reported</td>\n",
       "      <td>NaN</td>\n",
       "    </tr>\n",
       "    <tr>\n",
       "      <th>188536</th>\n",
       "      <td>Audi</td>\n",
       "      <td>A6 2.0T Sport</td>\n",
       "      <td>2016</td>\n",
       "      <td>61258</td>\n",
       "      <td>Gasoline</td>\n",
       "      <td>2.0 Liter TFSI</td>\n",
       "      <td>Automatic</td>\n",
       "      <td>Silician Yellow</td>\n",
       "      <td>Black</td>\n",
       "      <td>None reported</td>\n",
       "      <td>NaN</td>\n",
       "    </tr>\n",
       "    <tr>\n",
       "      <th>188537</th>\n",
       "      <td>Audi</td>\n",
       "      <td>A6 2.0T Premium Plus</td>\n",
       "      <td>2018</td>\n",
       "      <td>59000</td>\n",
       "      <td>Gasoline</td>\n",
       "      <td>252.0HP 2.0L 4 Cylinder Engine Gasoline Fuel</td>\n",
       "      <td>A/T</td>\n",
       "      <td>Gray</td>\n",
       "      <td>Black</td>\n",
       "      <td>None reported</td>\n",
       "      <td>Yes</td>\n",
       "    </tr>\n",
       "  </tbody>\n",
       "</table>\n",
       "</div>"
      ],
      "text/plain": [
       "       brand                 model  model_year  milage fuel_type  \\\n",
       "id                                                                 \n",
       "188533  Land        Rover LR2 Base        2015   98000  Gasoline   \n",
       "188534  Land     Rover Defender SE        2020    9142    Hybrid   \n",
       "188535  Ford    Expedition Limited        2022   28121  Gasoline   \n",
       "188536  Audi         A6 2.0T Sport        2016   61258  Gasoline   \n",
       "188537  Audi  A6 2.0T Premium Plus        2018   59000  Gasoline   \n",
       "\n",
       "                                                   engine        transmission  \\\n",
       "id                                                                              \n",
       "188533       240.0HP 2.0L 4 Cylinder Engine Gasoline Fuel         6-Speed A/T   \n",
       "188534  395.0HP 3.0L Straight 6 Cylinder Engine Gasoli...         8-Speed A/T   \n",
       "188535                    3.5L V6 24V PDI DOHC Twin Turbo  10-Speed Automatic   \n",
       "188536                                     2.0 Liter TFSI           Automatic   \n",
       "188537       252.0HP 2.0L 4 Cylinder Engine Gasoline Fuel                 A/T   \n",
       "\n",
       "                ext_col int_col       accident clean_title  \n",
       "id                                                          \n",
       "188533            White   Beige  None reported         Yes  \n",
       "188534           Silver   Black  None reported         Yes  \n",
       "188535            White   Ebony  None reported         NaN  \n",
       "188536  Silician Yellow   Black  None reported         NaN  \n",
       "188537             Gray   Black  None reported         Yes  "
      ]
     },
     "execution_count": 3,
     "metadata": {},
     "output_type": "execute_result"
    }
   ],
   "source": [
    "df_test.head()"
   ]
  },
  {
   "cell_type": "code",
   "execution_count": 4,
   "id": "b0ccbef6",
   "metadata": {
    "execution": {
     "iopub.execute_input": "2024-09-03T18:06:04.567653Z",
     "iopub.status.busy": "2024-09-03T18:06:04.567217Z",
     "iopub.status.idle": "2024-09-03T18:06:04.586090Z",
     "shell.execute_reply": "2024-09-03T18:06:04.584920Z"
    },
    "papermill": {
     "duration": 0.031787,
     "end_time": "2024-09-03T18:06:04.588767",
     "exception": false,
     "start_time": "2024-09-03T18:06:04.556980",
     "status": "completed"
    },
    "tags": []
   },
   "outputs": [
    {
     "data": {
      "text/html": [
       "<div>\n",
       "<style scoped>\n",
       "    .dataframe tbody tr th:only-of-type {\n",
       "        vertical-align: middle;\n",
       "    }\n",
       "\n",
       "    .dataframe tbody tr th {\n",
       "        vertical-align: top;\n",
       "    }\n",
       "\n",
       "    .dataframe thead th {\n",
       "        text-align: right;\n",
       "    }\n",
       "</style>\n",
       "<table border=\"1\" class=\"dataframe\">\n",
       "  <thead>\n",
       "    <tr style=\"text-align: right;\">\n",
       "      <th></th>\n",
       "      <th>brand</th>\n",
       "      <th>model</th>\n",
       "      <th>model_year</th>\n",
       "      <th>milage</th>\n",
       "      <th>fuel_type</th>\n",
       "      <th>engine</th>\n",
       "      <th>transmission</th>\n",
       "      <th>ext_col</th>\n",
       "      <th>int_col</th>\n",
       "      <th>accident</th>\n",
       "      <th>clean_title</th>\n",
       "      <th>price</th>\n",
       "    </tr>\n",
       "    <tr>\n",
       "      <th>id</th>\n",
       "      <th></th>\n",
       "      <th></th>\n",
       "      <th></th>\n",
       "      <th></th>\n",
       "      <th></th>\n",
       "      <th></th>\n",
       "      <th></th>\n",
       "      <th></th>\n",
       "      <th></th>\n",
       "      <th></th>\n",
       "      <th></th>\n",
       "      <th></th>\n",
       "    </tr>\n",
       "  </thead>\n",
       "  <tbody>\n",
       "    <tr>\n",
       "      <th>0</th>\n",
       "      <td>MINI</td>\n",
       "      <td>Cooper S Base</td>\n",
       "      <td>2007</td>\n",
       "      <td>213000</td>\n",
       "      <td>Gasoline</td>\n",
       "      <td>172.0HP 1.6L 4 Cylinder Engine Gasoline Fuel</td>\n",
       "      <td>A/T</td>\n",
       "      <td>Yellow</td>\n",
       "      <td>Gray</td>\n",
       "      <td>None reported</td>\n",
       "      <td>Yes</td>\n",
       "      <td>4200</td>\n",
       "    </tr>\n",
       "    <tr>\n",
       "      <th>1</th>\n",
       "      <td>Lincoln</td>\n",
       "      <td>LS V8</td>\n",
       "      <td>2002</td>\n",
       "      <td>143250</td>\n",
       "      <td>Gasoline</td>\n",
       "      <td>252.0HP 3.9L 8 Cylinder Engine Gasoline Fuel</td>\n",
       "      <td>A/T</td>\n",
       "      <td>Silver</td>\n",
       "      <td>Beige</td>\n",
       "      <td>At least 1 accident or damage reported</td>\n",
       "      <td>Yes</td>\n",
       "      <td>4999</td>\n",
       "    </tr>\n",
       "    <tr>\n",
       "      <th>2</th>\n",
       "      <td>Chevrolet</td>\n",
       "      <td>Silverado 2500 LT</td>\n",
       "      <td>2002</td>\n",
       "      <td>136731</td>\n",
       "      <td>E85 Flex Fuel</td>\n",
       "      <td>320.0HP 5.3L 8 Cylinder Engine Flex Fuel Capab...</td>\n",
       "      <td>A/T</td>\n",
       "      <td>Blue</td>\n",
       "      <td>Gray</td>\n",
       "      <td>None reported</td>\n",
       "      <td>Yes</td>\n",
       "      <td>13900</td>\n",
       "    </tr>\n",
       "    <tr>\n",
       "      <th>3</th>\n",
       "      <td>Genesis</td>\n",
       "      <td>G90 5.0 Ultimate</td>\n",
       "      <td>2017</td>\n",
       "      <td>19500</td>\n",
       "      <td>Gasoline</td>\n",
       "      <td>420.0HP 5.0L 8 Cylinder Engine Gasoline Fuel</td>\n",
       "      <td>Transmission w/Dual Shift Mode</td>\n",
       "      <td>Black</td>\n",
       "      <td>Black</td>\n",
       "      <td>None reported</td>\n",
       "      <td>Yes</td>\n",
       "      <td>45000</td>\n",
       "    </tr>\n",
       "    <tr>\n",
       "      <th>4</th>\n",
       "      <td>Mercedes-Benz</td>\n",
       "      <td>Metris Base</td>\n",
       "      <td>2021</td>\n",
       "      <td>7388</td>\n",
       "      <td>Gasoline</td>\n",
       "      <td>208.0HP 2.0L 4 Cylinder Engine Gasoline Fuel</td>\n",
       "      <td>7-Speed A/T</td>\n",
       "      <td>Black</td>\n",
       "      <td>Beige</td>\n",
       "      <td>None reported</td>\n",
       "      <td>Yes</td>\n",
       "      <td>97500</td>\n",
       "    </tr>\n",
       "  </tbody>\n",
       "</table>\n",
       "</div>"
      ],
      "text/plain": [
       "            brand              model  model_year  milage      fuel_type  \\\n",
       "id                                                                        \n",
       "0            MINI      Cooper S Base        2007  213000       Gasoline   \n",
       "1         Lincoln              LS V8        2002  143250       Gasoline   \n",
       "2       Chevrolet  Silverado 2500 LT        2002  136731  E85 Flex Fuel   \n",
       "3         Genesis   G90 5.0 Ultimate        2017   19500       Gasoline   \n",
       "4   Mercedes-Benz        Metris Base        2021    7388       Gasoline   \n",
       "\n",
       "                                               engine  \\\n",
       "id                                                      \n",
       "0        172.0HP 1.6L 4 Cylinder Engine Gasoline Fuel   \n",
       "1        252.0HP 3.9L 8 Cylinder Engine Gasoline Fuel   \n",
       "2   320.0HP 5.3L 8 Cylinder Engine Flex Fuel Capab...   \n",
       "3        420.0HP 5.0L 8 Cylinder Engine Gasoline Fuel   \n",
       "4        208.0HP 2.0L 4 Cylinder Engine Gasoline Fuel   \n",
       "\n",
       "                      transmission ext_col int_col  \\\n",
       "id                                                   \n",
       "0                              A/T  Yellow    Gray   \n",
       "1                              A/T  Silver   Beige   \n",
       "2                              A/T    Blue    Gray   \n",
       "3   Transmission w/Dual Shift Mode   Black   Black   \n",
       "4                      7-Speed A/T   Black   Beige   \n",
       "\n",
       "                                  accident clean_title  price  \n",
       "id                                                             \n",
       "0                            None reported         Yes   4200  \n",
       "1   At least 1 accident or damage reported         Yes   4999  \n",
       "2                            None reported         Yes  13900  \n",
       "3                            None reported         Yes  45000  \n",
       "4                            None reported         Yes  97500  "
      ]
     },
     "execution_count": 4,
     "metadata": {},
     "output_type": "execute_result"
    }
   ],
   "source": [
    "df_train.head()"
   ]
  },
  {
   "cell_type": "code",
   "execution_count": 5,
   "id": "4aee4202",
   "metadata": {
    "execution": {
     "iopub.execute_input": "2024-09-03T18:06:04.609059Z",
     "iopub.status.busy": "2024-09-03T18:06:04.608601Z",
     "iopub.status.idle": "2024-09-03T18:06:04.622579Z",
     "shell.execute_reply": "2024-09-03T18:06:04.621321Z"
    },
    "papermill": {
     "duration": 0.027312,
     "end_time": "2024-09-03T18:06:04.625342",
     "exception": false,
     "start_time": "2024-09-03T18:06:04.598030",
     "status": "completed"
    },
    "tags": []
   },
   "outputs": [
    {
     "data": {
      "text/html": [
       "<div>\n",
       "<style scoped>\n",
       "    .dataframe tbody tr th:only-of-type {\n",
       "        vertical-align: middle;\n",
       "    }\n",
       "\n",
       "    .dataframe tbody tr th {\n",
       "        vertical-align: top;\n",
       "    }\n",
       "\n",
       "    .dataframe thead th {\n",
       "        text-align: right;\n",
       "    }\n",
       "</style>\n",
       "<table border=\"1\" class=\"dataframe\">\n",
       "  <thead>\n",
       "    <tr style=\"text-align: right;\">\n",
       "      <th></th>\n",
       "      <th>id</th>\n",
       "      <th>price</th>\n",
       "    </tr>\n",
       "  </thead>\n",
       "  <tbody>\n",
       "    <tr>\n",
       "      <th>0</th>\n",
       "      <td>188533</td>\n",
       "      <td>43878.016</td>\n",
       "    </tr>\n",
       "    <tr>\n",
       "      <th>1</th>\n",
       "      <td>188534</td>\n",
       "      <td>43878.016</td>\n",
       "    </tr>\n",
       "    <tr>\n",
       "      <th>2</th>\n",
       "      <td>188535</td>\n",
       "      <td>43878.016</td>\n",
       "    </tr>\n",
       "    <tr>\n",
       "      <th>3</th>\n",
       "      <td>188536</td>\n",
       "      <td>43878.016</td>\n",
       "    </tr>\n",
       "    <tr>\n",
       "      <th>4</th>\n",
       "      <td>188537</td>\n",
       "      <td>43878.016</td>\n",
       "    </tr>\n",
       "  </tbody>\n",
       "</table>\n",
       "</div>"
      ],
      "text/plain": [
       "       id      price\n",
       "0  188533  43878.016\n",
       "1  188534  43878.016\n",
       "2  188535  43878.016\n",
       "3  188536  43878.016\n",
       "4  188537  43878.016"
      ]
     },
     "execution_count": 5,
     "metadata": {},
     "output_type": "execute_result"
    }
   ],
   "source": [
    "df_sub.head()"
   ]
  },
  {
   "cell_type": "markdown",
   "id": "625522e0",
   "metadata": {
    "papermill": {
     "duration": 0.009081,
     "end_time": "2024-09-03T18:06:04.643838",
     "exception": false,
     "start_time": "2024-09-03T18:06:04.634757",
     "status": "completed"
    },
    "tags": []
   },
   "source": [
    "price : target variable you want to predict, which is the sale price of the used car.\n",
    "\n",
    "brand : The manufacturer of the car. ex) BMW, Audi, Chevrolet, etc.\n",
    "\n",
    "model : The model name of the car. ex) BMW 328i, Chevrolet Camaro 1LT, etc.\n",
    "\n",
    "model_year : The year the car was manufactured and rolled out from the factory. Indicates the actual production year of the vehicle.\n",
    "\n",
    "milage : The mileage of the car, indicating how far the car has been driven.\n",
    "\n",
    "fuel_type : The type of fuel the car uses. ex) Gasoline, Diesel, Electric, etc.\n",
    "\n",
    "engine : THe specifications of the car’s engine. ex) displacement, number of cylinders, and horsepower.\n",
    "\n",
    "transmission : The type of transmission in the car. ex) Automatic (A/T), Manual (M/T), etc.\n",
    "\n",
    "ext_col : The exterior color of the car.\n",
    "\n",
    "int_col : The interior color of the car.\n",
    "\n",
    "accident : Indicates whether the car has been involved in any accidents or has sustained damage.\n",
    "\n",
    "clean_title : Indicates the status of the car's title. 'Yes' / 'No' means the car has / doesn't have a clean title.\n"
   ]
  },
  {
   "cell_type": "code",
   "execution_count": 6,
   "id": "4304be97",
   "metadata": {
    "execution": {
     "iopub.execute_input": "2024-09-03T18:06:04.666100Z",
     "iopub.status.busy": "2024-09-03T18:06:04.664716Z",
     "iopub.status.idle": "2024-09-03T18:06:04.866386Z",
     "shell.execute_reply": "2024-09-03T18:06:04.865124Z"
    },
    "papermill": {
     "duration": 0.215778,
     "end_time": "2024-09-03T18:06:04.869472",
     "exception": false,
     "start_time": "2024-09-03T18:06:04.653694",
     "status": "completed"
    },
    "tags": []
   },
   "outputs": [
    {
     "name": "stdout",
     "output_type": "stream",
     "text": [
      "The data type of each columns of train dataset : \n",
      "\n",
      "<class 'pandas.core.frame.DataFrame'>\n",
      "Index: 188533 entries, 0 to 188532\n",
      "Data columns (total 12 columns):\n",
      " #   Column        Non-Null Count   Dtype \n",
      "---  ------        --------------   ----- \n",
      " 0   brand         188533 non-null  object\n",
      " 1   model         188533 non-null  object\n",
      " 2   model_year    188533 non-null  int64 \n",
      " 3   milage        188533 non-null  int64 \n",
      " 4   fuel_type     183450 non-null  object\n",
      " 5   engine        188533 non-null  object\n",
      " 6   transmission  188533 non-null  object\n",
      " 7   ext_col       188533 non-null  object\n",
      " 8   int_col       188533 non-null  object\n",
      " 9   accident      186081 non-null  object\n",
      " 10  clean_title   167114 non-null  object\n",
      " 11  price         188533 non-null  int64 \n",
      "dtypes: int64(3), object(9)\n",
      "memory usage: 18.7+ MB\n"
     ]
    }
   ],
   "source": [
    "print('The data type of each columns of train dataset : \\n')\n",
    "df_train.info()"
   ]
  },
  {
   "cell_type": "code",
   "execution_count": 7,
   "id": "7e4e6132",
   "metadata": {
    "execution": {
     "iopub.execute_input": "2024-09-03T18:06:04.891109Z",
     "iopub.status.busy": "2024-09-03T18:06:04.889970Z",
     "iopub.status.idle": "2024-09-03T18:06:04.898123Z",
     "shell.execute_reply": "2024-09-03T18:06:04.896784Z"
    },
    "papermill": {
     "duration": 0.022498,
     "end_time": "2024-09-03T18:06:04.901571",
     "exception": false,
     "start_time": "2024-09-03T18:06:04.879073",
     "status": "completed"
    },
    "tags": []
   },
   "outputs": [
    {
     "name": "stdout",
     "output_type": "stream",
     "text": [
      "features : ['brand', 'model', 'model_year', 'milage', 'fuel_type', 'engine', 'transmission', 'ext_col', 'int_col', 'accident', 'clean_title', 'price']\n",
      "num_features : ['model_year', 'milage']\n",
      "cat_features : ['clean_title', 'accident', 'model', 'transmission', 'engine', 'ext_col', 'fuel_type', 'int_col', 'brand']\n"
     ]
    }
   ],
   "source": [
    "features = ['brand', 'model', 'model_year', 'milage', 'fuel_type', 'engine', 'transmission', 'ext_col', 'int_col', 'accident', 'clean_title', 'price']\n",
    "num_features = ['model_year', 'milage']\n",
    "cat_features = ['clean_title', 'accident', 'model', 'transmission', 'engine', 'ext_col', 'fuel_type', 'int_col', 'brand']\n",
    "\n",
    "print('features :', features)\n",
    "print('num_features :', num_features)\n",
    "print('cat_features :', cat_features)"
   ]
  },
  {
   "cell_type": "code",
   "execution_count": 8,
   "id": "48d59361",
   "metadata": {
    "execution": {
     "iopub.execute_input": "2024-09-03T18:06:04.923090Z",
     "iopub.status.busy": "2024-09-03T18:06:04.922588Z",
     "iopub.status.idle": "2024-09-03T18:06:05.246761Z",
     "shell.execute_reply": "2024-09-03T18:06:05.245415Z"
    },
    "papermill": {
     "duration": 0.338682,
     "end_time": "2024-09-03T18:06:05.249932",
     "exception": false,
     "start_time": "2024-09-03T18:06:04.911250",
     "status": "completed"
    },
    "tags": []
   },
   "outputs": [
    {
     "name": "stdout",
     "output_type": "stream",
     "text": [
      "The missing values of train dataset : \n",
      " brand               0\n",
      "model               0\n",
      "model_year          0\n",
      "milage              0\n",
      "fuel_type        5083\n",
      "engine              0\n",
      "transmission        0\n",
      "ext_col             0\n",
      "int_col             0\n",
      "accident         2452\n",
      "clean_title     21419\n",
      "price               0\n",
      "dtype: int64\n",
      "The missing values of test dataset : \n",
      " brand               0\n",
      "model               0\n",
      "model_year          0\n",
      "milage              0\n",
      "fuel_type        3383\n",
      "engine              0\n",
      "transmission        0\n",
      "ext_col             0\n",
      "int_col             0\n",
      "accident         1632\n",
      "clean_title     14239\n",
      "dtype: int64\n"
     ]
    }
   ],
   "source": [
    "print('The missing values of train dataset : \\n', df_train.isnull().sum())\n",
    "print('The missing values of test dataset : \\n' , df_test.isnull().sum())"
   ]
  },
  {
   "cell_type": "code",
   "execution_count": 9,
   "id": "8a6749c8",
   "metadata": {
    "execution": {
     "iopub.execute_input": "2024-09-03T18:06:05.274945Z",
     "iopub.status.busy": "2024-09-03T18:06:05.273826Z",
     "iopub.status.idle": "2024-09-03T18:06:05.281788Z",
     "shell.execute_reply": "2024-09-03T18:06:05.280107Z"
    },
    "papermill": {
     "duration": 0.023295,
     "end_time": "2024-09-03T18:06:05.284564",
     "exception": false,
     "start_time": "2024-09-03T18:06:05.261269",
     "status": "completed"
    },
    "tags": []
   },
   "outputs": [],
   "source": [
    "def cleaning_data(df):\n",
    "\n",
    "    fuel_type_imputer = SimpleImputer(strategy='most_frequent')\n",
    "    df['fuel_type'] = fuel_type_imputer.fit_transform(df[['fuel_type']]).ravel() \n",
    "    \n",
    "    missing_label_imputer = SimpleImputer(strategy='constant', fill_value='missing')\n",
    "    df[['accident', 'clean_title']] = missing_label_imputer.fit_transform(df[['accident', 'clean_title']])\n",
    "    \n",
    "    return df"
   ]
  },
  {
   "cell_type": "code",
   "execution_count": 10,
   "id": "6163551f",
   "metadata": {
    "execution": {
     "iopub.execute_input": "2024-09-03T18:06:05.306091Z",
     "iopub.status.busy": "2024-09-03T18:06:05.305543Z",
     "iopub.status.idle": "2024-09-03T18:06:05.641867Z",
     "shell.execute_reply": "2024-09-03T18:06:05.640213Z"
    },
    "papermill": {
     "duration": 0.350478,
     "end_time": "2024-09-03T18:06:05.644752",
     "exception": false,
     "start_time": "2024-09-03T18:06:05.294274",
     "status": "completed"
    },
    "tags": []
   },
   "outputs": [
    {
     "name": "stdout",
     "output_type": "stream",
     "text": [
      "The missing valuse of train dataset after handling missing values : \n",
      " brand           0\n",
      "model           0\n",
      "model_year      0\n",
      "milage          0\n",
      "fuel_type       0\n",
      "engine          0\n",
      "transmission    0\n",
      "ext_col         0\n",
      "int_col         0\n",
      "accident        0\n",
      "clean_title     0\n",
      "price           0\n",
      "dtype: int64\n"
     ]
    }
   ],
   "source": [
    "df_train_cleaned = cleaning_data(df_train)\n",
    "print('The missing valuse of train dataset after handling missing values : \\n', df_train_cleaned.isnull().sum())"
   ]
  },
  {
   "cell_type": "code",
   "execution_count": 11,
   "id": "4b0c5a7f",
   "metadata": {
    "execution": {
     "iopub.execute_input": "2024-09-03T18:06:05.666912Z",
     "iopub.status.busy": "2024-09-03T18:06:05.666419Z",
     "iopub.status.idle": "2024-09-03T18:06:05.672774Z",
     "shell.execute_reply": "2024-09-03T18:06:05.671395Z"
    },
    "papermill": {
     "duration": 0.020537,
     "end_time": "2024-09-03T18:06:05.675682",
     "exception": false,
     "start_time": "2024-09-03T18:06:05.655145",
     "status": "completed"
    },
    "tags": []
   },
   "outputs": [],
   "source": [
    "# Define feature columns\n",
    "num_features = ['milage']\n",
    "cat_features = ['clean_title', 'accident', 'model', 'transmission', 'engine', 'ext_col', 'fuel_type', 'int_col', 'brand', 'model_year']\n"
   ]
  },
  {
   "cell_type": "code",
   "execution_count": 12,
   "id": "52f4b357",
   "metadata": {
    "execution": {
     "iopub.execute_input": "2024-09-03T18:06:05.698900Z",
     "iopub.status.busy": "2024-09-03T18:06:05.698416Z",
     "iopub.status.idle": "2024-09-03T18:06:05.704574Z",
     "shell.execute_reply": "2024-09-03T18:06:05.703358Z"
    },
    "papermill": {
     "duration": 0.020983,
     "end_time": "2024-09-03T18:06:05.707211",
     "exception": false,
     "start_time": "2024-09-03T18:06:05.686228",
     "status": "completed"
    },
    "tags": []
   },
   "outputs": [],
   "source": [
    "# Create preprocessing pipelines\n",
    "num_pipeline = Pipeline([\n",
    "    ('scaler', StandardScaler()),\n",
    "])\n",
    "cat_pipeline = Pipeline([\n",
    "    ('ordinal', OrdinalEncoder(handle_unknown='use_encoded_value', unknown_value=-1)),\n",
    "])"
   ]
  },
  {
   "cell_type": "code",
   "execution_count": 13,
   "id": "5bb05846",
   "metadata": {
    "execution": {
     "iopub.execute_input": "2024-09-03T18:06:05.728848Z",
     "iopub.status.busy": "2024-09-03T18:06:05.728383Z",
     "iopub.status.idle": "2024-09-03T18:06:05.734473Z",
     "shell.execute_reply": "2024-09-03T18:06:05.733228Z"
    },
    "papermill": {
     "duration": 0.020107,
     "end_time": "2024-09-03T18:06:05.737180",
     "exception": false,
     "start_time": "2024-09-03T18:06:05.717073",
     "status": "completed"
    },
    "tags": []
   },
   "outputs": [],
   "source": [
    "# Combine preprocessing pipelines\n",
    "preprocessing = ColumnTransformer([\n",
    "    ('num', num_pipeline, num_features),\n",
    "    ('cat', cat_pipeline, cat_features),\n",
    "])"
   ]
  },
  {
   "cell_type": "code",
   "execution_count": 14,
   "id": "03ce2aa9",
   "metadata": {
    "execution": {
     "iopub.execute_input": "2024-09-03T18:06:05.758888Z",
     "iopub.status.busy": "2024-09-03T18:06:05.758416Z",
     "iopub.status.idle": "2024-09-03T18:06:05.784557Z",
     "shell.execute_reply": "2024-09-03T18:06:05.783318Z"
    },
    "papermill": {
     "duration": 0.040566,
     "end_time": "2024-09-03T18:06:05.787499",
     "exception": false,
     "start_time": "2024-09-03T18:06:05.746933",
     "status": "completed"
    },
    "tags": []
   },
   "outputs": [],
   "source": [
    "# Separate features and target\n",
    "X_train = df_train.drop(columns=['price'])\n",
    "y_train = df_train['price']\n",
    "X_test = df_test"
   ]
  },
  {
   "cell_type": "code",
   "execution_count": 15,
   "id": "0545bef6",
   "metadata": {
    "execution": {
     "iopub.execute_input": "2024-09-03T18:06:05.809531Z",
     "iopub.status.busy": "2024-09-03T18:06:05.808667Z",
     "iopub.status.idle": "2024-09-03T18:06:05.935111Z",
     "shell.execute_reply": "2024-09-03T18:06:05.933967Z"
    },
    "papermill": {
     "duration": 0.140913,
     "end_time": "2024-09-03T18:06:05.938276",
     "exception": false,
     "start_time": "2024-09-03T18:06:05.797363",
     "status": "completed"
    },
    "tags": []
   },
   "outputs": [],
   "source": [
    "from sklearn.model_selection import train_test_split\n",
    "\n",
    "# Split the training data into training and validation sets\n",
    "X_train_split, X_val, y_train_split, y_val = train_test_split(\n",
    "    X_train, y_train, test_size=0.2, random_state=1\n",
    ")"
   ]
  },
  {
   "cell_type": "code",
   "execution_count": 16,
   "id": "4343c6f5",
   "metadata": {
    "execution": {
     "iopub.execute_input": "2024-09-03T18:06:05.960269Z",
     "iopub.status.busy": "2024-09-03T18:06:05.959167Z",
     "iopub.status.idle": "2024-09-03T18:06:05.965328Z",
     "shell.execute_reply": "2024-09-03T18:06:05.964074Z"
    },
    "papermill": {
     "duration": 0.019654,
     "end_time": "2024-09-03T18:06:05.967684",
     "exception": false,
     "start_time": "2024-09-03T18:06:05.948030",
     "status": "completed"
    },
    "tags": []
   },
   "outputs": [],
   "source": [
    "# Define the full pipeline with preprocessing and model\n",
    "full_pipeline = Pipeline([\n",
    "    ('preprocessing', preprocessing),\n",
    "    ('model', RandomForestRegressor(n_estimators=100, max_depth=10, random_state=1))\n",
    "])"
   ]
  },
  {
   "cell_type": "code",
   "execution_count": 17,
   "id": "57e5b7c2",
   "metadata": {
    "execution": {
     "iopub.execute_input": "2024-09-03T18:06:05.989328Z",
     "iopub.status.busy": "2024-09-03T18:06:05.988901Z",
     "iopub.status.idle": "2024-09-03T18:06:47.090171Z",
     "shell.execute_reply": "2024-09-03T18:06:47.088767Z"
    },
    "papermill": {
     "duration": 41.125029,
     "end_time": "2024-09-03T18:06:47.102578",
     "exception": false,
     "start_time": "2024-09-03T18:06:05.977549",
     "status": "completed"
    },
    "tags": []
   },
   "outputs": [
    {
     "data": {
      "text/html": [
       "<style>#sk-container-id-1 {color: black;background-color: white;}#sk-container-id-1 pre{padding: 0;}#sk-container-id-1 div.sk-toggleable {background-color: white;}#sk-container-id-1 label.sk-toggleable__label {cursor: pointer;display: block;width: 100%;margin-bottom: 0;padding: 0.3em;box-sizing: border-box;text-align: center;}#sk-container-id-1 label.sk-toggleable__label-arrow:before {content: \"▸\";float: left;margin-right: 0.25em;color: #696969;}#sk-container-id-1 label.sk-toggleable__label-arrow:hover:before {color: black;}#sk-container-id-1 div.sk-estimator:hover label.sk-toggleable__label-arrow:before {color: black;}#sk-container-id-1 div.sk-toggleable__content {max-height: 0;max-width: 0;overflow: hidden;text-align: left;background-color: #f0f8ff;}#sk-container-id-1 div.sk-toggleable__content pre {margin: 0.2em;color: black;border-radius: 0.25em;background-color: #f0f8ff;}#sk-container-id-1 input.sk-toggleable__control:checked~div.sk-toggleable__content {max-height: 200px;max-width: 100%;overflow: auto;}#sk-container-id-1 input.sk-toggleable__control:checked~label.sk-toggleable__label-arrow:before {content: \"▾\";}#sk-container-id-1 div.sk-estimator input.sk-toggleable__control:checked~label.sk-toggleable__label {background-color: #d4ebff;}#sk-container-id-1 div.sk-label input.sk-toggleable__control:checked~label.sk-toggleable__label {background-color: #d4ebff;}#sk-container-id-1 input.sk-hidden--visually {border: 0;clip: rect(1px 1px 1px 1px);clip: rect(1px, 1px, 1px, 1px);height: 1px;margin: -1px;overflow: hidden;padding: 0;position: absolute;width: 1px;}#sk-container-id-1 div.sk-estimator {font-family: monospace;background-color: #f0f8ff;border: 1px dotted black;border-radius: 0.25em;box-sizing: border-box;margin-bottom: 0.5em;}#sk-container-id-1 div.sk-estimator:hover {background-color: #d4ebff;}#sk-container-id-1 div.sk-parallel-item::after {content: \"\";width: 100%;border-bottom: 1px solid gray;flex-grow: 1;}#sk-container-id-1 div.sk-label:hover label.sk-toggleable__label {background-color: #d4ebff;}#sk-container-id-1 div.sk-serial::before {content: \"\";position: absolute;border-left: 1px solid gray;box-sizing: border-box;top: 0;bottom: 0;left: 50%;z-index: 0;}#sk-container-id-1 div.sk-serial {display: flex;flex-direction: column;align-items: center;background-color: white;padding-right: 0.2em;padding-left: 0.2em;position: relative;}#sk-container-id-1 div.sk-item {position: relative;z-index: 1;}#sk-container-id-1 div.sk-parallel {display: flex;align-items: stretch;justify-content: center;background-color: white;position: relative;}#sk-container-id-1 div.sk-item::before, #sk-container-id-1 div.sk-parallel-item::before {content: \"\";position: absolute;border-left: 1px solid gray;box-sizing: border-box;top: 0;bottom: 0;left: 50%;z-index: -1;}#sk-container-id-1 div.sk-parallel-item {display: flex;flex-direction: column;z-index: 1;position: relative;background-color: white;}#sk-container-id-1 div.sk-parallel-item:first-child::after {align-self: flex-end;width: 50%;}#sk-container-id-1 div.sk-parallel-item:last-child::after {align-self: flex-start;width: 50%;}#sk-container-id-1 div.sk-parallel-item:only-child::after {width: 0;}#sk-container-id-1 div.sk-dashed-wrapped {border: 1px dashed gray;margin: 0 0.4em 0.5em 0.4em;box-sizing: border-box;padding-bottom: 0.4em;background-color: white;}#sk-container-id-1 div.sk-label label {font-family: monospace;font-weight: bold;display: inline-block;line-height: 1.2em;}#sk-container-id-1 div.sk-label-container {text-align: center;}#sk-container-id-1 div.sk-container {/* jupyter's `normalize.less` sets `[hidden] { display: none; }` but bootstrap.min.css set `[hidden] { display: none !important; }` so we also need the `!important` here to be able to override the default hidden behavior on the sphinx rendered scikit-learn.org. See: https://github.com/scikit-learn/scikit-learn/issues/21755 */display: inline-block !important;position: relative;}#sk-container-id-1 div.sk-text-repr-fallback {display: none;}</style><div id=\"sk-container-id-1\" class=\"sk-top-container\"><div class=\"sk-text-repr-fallback\"><pre>Pipeline(steps=[(&#x27;preprocessing&#x27;,\n",
       "                 ColumnTransformer(transformers=[(&#x27;num&#x27;,\n",
       "                                                  Pipeline(steps=[(&#x27;scaler&#x27;,\n",
       "                                                                   StandardScaler())]),\n",
       "                                                  [&#x27;milage&#x27;]),\n",
       "                                                 (&#x27;cat&#x27;,\n",
       "                                                  Pipeline(steps=[(&#x27;ordinal&#x27;,\n",
       "                                                                   OrdinalEncoder(handle_unknown=&#x27;use_encoded_value&#x27;,\n",
       "                                                                                  unknown_value=-1))]),\n",
       "                                                  [&#x27;clean_title&#x27;, &#x27;accident&#x27;,\n",
       "                                                   &#x27;model&#x27;, &#x27;transmission&#x27;,\n",
       "                                                   &#x27;engine&#x27;, &#x27;ext_col&#x27;,\n",
       "                                                   &#x27;fuel_type&#x27;, &#x27;int_col&#x27;,\n",
       "                                                   &#x27;brand&#x27;, &#x27;model_year&#x27;])])),\n",
       "                (&#x27;model&#x27;, RandomForestRegressor(max_depth=10, random_state=1))])</pre><b>In a Jupyter environment, please rerun this cell to show the HTML representation or trust the notebook. <br />On GitHub, the HTML representation is unable to render, please try loading this page with nbviewer.org.</b></div><div class=\"sk-container\" hidden><div class=\"sk-item sk-dashed-wrapped\"><div class=\"sk-label-container\"><div class=\"sk-label sk-toggleable\"><input class=\"sk-toggleable__control sk-hidden--visually\" id=\"sk-estimator-id-1\" type=\"checkbox\" ><label for=\"sk-estimator-id-1\" class=\"sk-toggleable__label sk-toggleable__label-arrow\">Pipeline</label><div class=\"sk-toggleable__content\"><pre>Pipeline(steps=[(&#x27;preprocessing&#x27;,\n",
       "                 ColumnTransformer(transformers=[(&#x27;num&#x27;,\n",
       "                                                  Pipeline(steps=[(&#x27;scaler&#x27;,\n",
       "                                                                   StandardScaler())]),\n",
       "                                                  [&#x27;milage&#x27;]),\n",
       "                                                 (&#x27;cat&#x27;,\n",
       "                                                  Pipeline(steps=[(&#x27;ordinal&#x27;,\n",
       "                                                                   OrdinalEncoder(handle_unknown=&#x27;use_encoded_value&#x27;,\n",
       "                                                                                  unknown_value=-1))]),\n",
       "                                                  [&#x27;clean_title&#x27;, &#x27;accident&#x27;,\n",
       "                                                   &#x27;model&#x27;, &#x27;transmission&#x27;,\n",
       "                                                   &#x27;engine&#x27;, &#x27;ext_col&#x27;,\n",
       "                                                   &#x27;fuel_type&#x27;, &#x27;int_col&#x27;,\n",
       "                                                   &#x27;brand&#x27;, &#x27;model_year&#x27;])])),\n",
       "                (&#x27;model&#x27;, RandomForestRegressor(max_depth=10, random_state=1))])</pre></div></div></div><div class=\"sk-serial\"><div class=\"sk-item sk-dashed-wrapped\"><div class=\"sk-label-container\"><div class=\"sk-label sk-toggleable\"><input class=\"sk-toggleable__control sk-hidden--visually\" id=\"sk-estimator-id-2\" type=\"checkbox\" ><label for=\"sk-estimator-id-2\" class=\"sk-toggleable__label sk-toggleable__label-arrow\">preprocessing: ColumnTransformer</label><div class=\"sk-toggleable__content\"><pre>ColumnTransformer(transformers=[(&#x27;num&#x27;,\n",
       "                                 Pipeline(steps=[(&#x27;scaler&#x27;, StandardScaler())]),\n",
       "                                 [&#x27;milage&#x27;]),\n",
       "                                (&#x27;cat&#x27;,\n",
       "                                 Pipeline(steps=[(&#x27;ordinal&#x27;,\n",
       "                                                  OrdinalEncoder(handle_unknown=&#x27;use_encoded_value&#x27;,\n",
       "                                                                 unknown_value=-1))]),\n",
       "                                 [&#x27;clean_title&#x27;, &#x27;accident&#x27;, &#x27;model&#x27;,\n",
       "                                  &#x27;transmission&#x27;, &#x27;engine&#x27;, &#x27;ext_col&#x27;,\n",
       "                                  &#x27;fuel_type&#x27;, &#x27;int_col&#x27;, &#x27;brand&#x27;,\n",
       "                                  &#x27;model_year&#x27;])])</pre></div></div></div><div class=\"sk-parallel\"><div class=\"sk-parallel-item\"><div class=\"sk-item\"><div class=\"sk-label-container\"><div class=\"sk-label sk-toggleable\"><input class=\"sk-toggleable__control sk-hidden--visually\" id=\"sk-estimator-id-3\" type=\"checkbox\" ><label for=\"sk-estimator-id-3\" class=\"sk-toggleable__label sk-toggleable__label-arrow\">num</label><div class=\"sk-toggleable__content\"><pre>[&#x27;milage&#x27;]</pre></div></div></div><div class=\"sk-serial\"><div class=\"sk-item\"><div class=\"sk-serial\"><div class=\"sk-item\"><div class=\"sk-estimator sk-toggleable\"><input class=\"sk-toggleable__control sk-hidden--visually\" id=\"sk-estimator-id-4\" type=\"checkbox\" ><label for=\"sk-estimator-id-4\" class=\"sk-toggleable__label sk-toggleable__label-arrow\">StandardScaler</label><div class=\"sk-toggleable__content\"><pre>StandardScaler()</pre></div></div></div></div></div></div></div></div><div class=\"sk-parallel-item\"><div class=\"sk-item\"><div class=\"sk-label-container\"><div class=\"sk-label sk-toggleable\"><input class=\"sk-toggleable__control sk-hidden--visually\" id=\"sk-estimator-id-5\" type=\"checkbox\" ><label for=\"sk-estimator-id-5\" class=\"sk-toggleable__label sk-toggleable__label-arrow\">cat</label><div class=\"sk-toggleable__content\"><pre>[&#x27;clean_title&#x27;, &#x27;accident&#x27;, &#x27;model&#x27;, &#x27;transmission&#x27;, &#x27;engine&#x27;, &#x27;ext_col&#x27;, &#x27;fuel_type&#x27;, &#x27;int_col&#x27;, &#x27;brand&#x27;, &#x27;model_year&#x27;]</pre></div></div></div><div class=\"sk-serial\"><div class=\"sk-item\"><div class=\"sk-serial\"><div class=\"sk-item\"><div class=\"sk-estimator sk-toggleable\"><input class=\"sk-toggleable__control sk-hidden--visually\" id=\"sk-estimator-id-6\" type=\"checkbox\" ><label for=\"sk-estimator-id-6\" class=\"sk-toggleable__label sk-toggleable__label-arrow\">OrdinalEncoder</label><div class=\"sk-toggleable__content\"><pre>OrdinalEncoder(handle_unknown=&#x27;use_encoded_value&#x27;, unknown_value=-1)</pre></div></div></div></div></div></div></div></div></div></div><div class=\"sk-item\"><div class=\"sk-estimator sk-toggleable\"><input class=\"sk-toggleable__control sk-hidden--visually\" id=\"sk-estimator-id-7\" type=\"checkbox\" ><label for=\"sk-estimator-id-7\" class=\"sk-toggleable__label sk-toggleable__label-arrow\">RandomForestRegressor</label><div class=\"sk-toggleable__content\"><pre>RandomForestRegressor(max_depth=10, random_state=1)</pre></div></div></div></div></div></div></div>"
      ],
      "text/plain": [
       "Pipeline(steps=[('preprocessing',\n",
       "                 ColumnTransformer(transformers=[('num',\n",
       "                                                  Pipeline(steps=[('scaler',\n",
       "                                                                   StandardScaler())]),\n",
       "                                                  ['milage']),\n",
       "                                                 ('cat',\n",
       "                                                  Pipeline(steps=[('ordinal',\n",
       "                                                                   OrdinalEncoder(handle_unknown='use_encoded_value',\n",
       "                                                                                  unknown_value=-1))]),\n",
       "                                                  ['clean_title', 'accident',\n",
       "                                                   'model', 'transmission',\n",
       "                                                   'engine', 'ext_col',\n",
       "                                                   'fuel_type', 'int_col',\n",
       "                                                   'brand', 'model_year'])])),\n",
       "                ('model', RandomForestRegressor(max_depth=10, random_state=1))])"
      ]
     },
     "execution_count": 17,
     "metadata": {},
     "output_type": "execute_result"
    }
   ],
   "source": [
    "# Train the model\n",
    "full_pipeline.fit(X_train_split, y_train_split)"
   ]
  },
  {
   "cell_type": "code",
   "execution_count": 18,
   "id": "d2f8e0d0",
   "metadata": {
    "execution": {
     "iopub.execute_input": "2024-09-03T18:06:47.131189Z",
     "iopub.status.busy": "2024-09-03T18:06:47.130690Z",
     "iopub.status.idle": "2024-09-03T18:06:47.660511Z",
     "shell.execute_reply": "2024-09-03T18:06:47.658964Z"
    },
    "papermill": {
     "duration": 0.550776,
     "end_time": "2024-09-03T18:06:47.663967",
     "exception": false,
     "start_time": "2024-09-03T18:06:47.113191",
     "status": "completed"
    },
    "tags": []
   },
   "outputs": [],
   "source": [
    "# Make predictions on the validation set\n",
    "val_predictions = full_pipeline.predict(X_val)"
   ]
  },
  {
   "cell_type": "code",
   "execution_count": 19,
   "id": "7ebdac1a",
   "metadata": {
    "execution": {
     "iopub.execute_input": "2024-09-03T18:06:47.689557Z",
     "iopub.status.busy": "2024-09-03T18:06:47.689130Z",
     "iopub.status.idle": "2024-09-03T18:06:47.698434Z",
     "shell.execute_reply": "2024-09-03T18:06:47.697099Z"
    },
    "papermill": {
     "duration": 0.023896,
     "end_time": "2024-09-03T18:06:47.701187",
     "exception": false,
     "start_time": "2024-09-03T18:06:47.677291",
     "status": "completed"
    },
    "tags": []
   },
   "outputs": [
    {
     "name": "stdout",
     "output_type": "stream",
     "text": [
      "Root Mean Squared Error (RMSE): 64404.627186787584\n"
     ]
    }
   ],
   "source": [
    "# Compute RMSE on the validation set\n",
    "rmse = np.sqrt(mean_squared_error(y_val, val_predictions))\n",
    "print(f\"Root Mean Squared Error (RMSE): {rmse}\")"
   ]
  },
  {
   "cell_type": "code",
   "execution_count": 20,
   "id": "7372d6b0",
   "metadata": {
    "execution": {
     "iopub.execute_input": "2024-09-03T18:06:47.723366Z",
     "iopub.status.busy": "2024-09-03T18:06:47.722937Z",
     "iopub.status.idle": "2024-09-03T18:06:47.741082Z",
     "shell.execute_reply": "2024-09-03T18:06:47.739675Z"
    },
    "papermill": {
     "duration": 0.032426,
     "end_time": "2024-09-03T18:06:47.743812",
     "exception": false,
     "start_time": "2024-09-03T18:06:47.711386",
     "status": "completed"
    },
    "tags": []
   },
   "outputs": [
    {
     "data": {
      "text/html": [
       "<div>\n",
       "<style scoped>\n",
       "    .dataframe tbody tr th:only-of-type {\n",
       "        vertical-align: middle;\n",
       "    }\n",
       "\n",
       "    .dataframe tbody tr th {\n",
       "        vertical-align: top;\n",
       "    }\n",
       "\n",
       "    .dataframe thead th {\n",
       "        text-align: right;\n",
       "    }\n",
       "</style>\n",
       "<table border=\"1\" class=\"dataframe\">\n",
       "  <thead>\n",
       "    <tr style=\"text-align: right;\">\n",
       "      <th></th>\n",
       "      <th>brand</th>\n",
       "      <th>model</th>\n",
       "      <th>model_year</th>\n",
       "      <th>milage</th>\n",
       "      <th>fuel_type</th>\n",
       "      <th>engine</th>\n",
       "      <th>transmission</th>\n",
       "      <th>ext_col</th>\n",
       "      <th>int_col</th>\n",
       "      <th>accident</th>\n",
       "      <th>clean_title</th>\n",
       "    </tr>\n",
       "    <tr>\n",
       "      <th>id</th>\n",
       "      <th></th>\n",
       "      <th></th>\n",
       "      <th></th>\n",
       "      <th></th>\n",
       "      <th></th>\n",
       "      <th></th>\n",
       "      <th></th>\n",
       "      <th></th>\n",
       "      <th></th>\n",
       "      <th></th>\n",
       "      <th></th>\n",
       "    </tr>\n",
       "  </thead>\n",
       "  <tbody>\n",
       "    <tr>\n",
       "      <th>188533</th>\n",
       "      <td>Land</td>\n",
       "      <td>Rover LR2 Base</td>\n",
       "      <td>2015</td>\n",
       "      <td>98000</td>\n",
       "      <td>Gasoline</td>\n",
       "      <td>240.0HP 2.0L 4 Cylinder Engine Gasoline Fuel</td>\n",
       "      <td>6-Speed A/T</td>\n",
       "      <td>White</td>\n",
       "      <td>Beige</td>\n",
       "      <td>None reported</td>\n",
       "      <td>Yes</td>\n",
       "    </tr>\n",
       "    <tr>\n",
       "      <th>188534</th>\n",
       "      <td>Land</td>\n",
       "      <td>Rover Defender SE</td>\n",
       "      <td>2020</td>\n",
       "      <td>9142</td>\n",
       "      <td>Hybrid</td>\n",
       "      <td>395.0HP 3.0L Straight 6 Cylinder Engine Gasoli...</td>\n",
       "      <td>8-Speed A/T</td>\n",
       "      <td>Silver</td>\n",
       "      <td>Black</td>\n",
       "      <td>None reported</td>\n",
       "      <td>Yes</td>\n",
       "    </tr>\n",
       "    <tr>\n",
       "      <th>188535</th>\n",
       "      <td>Ford</td>\n",
       "      <td>Expedition Limited</td>\n",
       "      <td>2022</td>\n",
       "      <td>28121</td>\n",
       "      <td>Gasoline</td>\n",
       "      <td>3.5L V6 24V PDI DOHC Twin Turbo</td>\n",
       "      <td>10-Speed Automatic</td>\n",
       "      <td>White</td>\n",
       "      <td>Ebony</td>\n",
       "      <td>None reported</td>\n",
       "      <td>NaN</td>\n",
       "    </tr>\n",
       "    <tr>\n",
       "      <th>188536</th>\n",
       "      <td>Audi</td>\n",
       "      <td>A6 2.0T Sport</td>\n",
       "      <td>2016</td>\n",
       "      <td>61258</td>\n",
       "      <td>Gasoline</td>\n",
       "      <td>2.0 Liter TFSI</td>\n",
       "      <td>Automatic</td>\n",
       "      <td>Silician Yellow</td>\n",
       "      <td>Black</td>\n",
       "      <td>None reported</td>\n",
       "      <td>NaN</td>\n",
       "    </tr>\n",
       "    <tr>\n",
       "      <th>188537</th>\n",
       "      <td>Audi</td>\n",
       "      <td>A6 2.0T Premium Plus</td>\n",
       "      <td>2018</td>\n",
       "      <td>59000</td>\n",
       "      <td>Gasoline</td>\n",
       "      <td>252.0HP 2.0L 4 Cylinder Engine Gasoline Fuel</td>\n",
       "      <td>A/T</td>\n",
       "      <td>Gray</td>\n",
       "      <td>Black</td>\n",
       "      <td>None reported</td>\n",
       "      <td>Yes</td>\n",
       "    </tr>\n",
       "  </tbody>\n",
       "</table>\n",
       "</div>"
      ],
      "text/plain": [
       "       brand                 model  model_year  milage fuel_type  \\\n",
       "id                                                                 \n",
       "188533  Land        Rover LR2 Base        2015   98000  Gasoline   \n",
       "188534  Land     Rover Defender SE        2020    9142    Hybrid   \n",
       "188535  Ford    Expedition Limited        2022   28121  Gasoline   \n",
       "188536  Audi         A6 2.0T Sport        2016   61258  Gasoline   \n",
       "188537  Audi  A6 2.0T Premium Plus        2018   59000  Gasoline   \n",
       "\n",
       "                                                   engine        transmission  \\\n",
       "id                                                                              \n",
       "188533       240.0HP 2.0L 4 Cylinder Engine Gasoline Fuel         6-Speed A/T   \n",
       "188534  395.0HP 3.0L Straight 6 Cylinder Engine Gasoli...         8-Speed A/T   \n",
       "188535                    3.5L V6 24V PDI DOHC Twin Turbo  10-Speed Automatic   \n",
       "188536                                     2.0 Liter TFSI           Automatic   \n",
       "188537       252.0HP 2.0L 4 Cylinder Engine Gasoline Fuel                 A/T   \n",
       "\n",
       "                ext_col int_col       accident clean_title  \n",
       "id                                                          \n",
       "188533            White   Beige  None reported         Yes  \n",
       "188534           Silver   Black  None reported         Yes  \n",
       "188535            White   Ebony  None reported         NaN  \n",
       "188536  Silician Yellow   Black  None reported         NaN  \n",
       "188537             Gray   Black  None reported         Yes  "
      ]
     },
     "execution_count": 20,
     "metadata": {},
     "output_type": "execute_result"
    }
   ],
   "source": [
    "df_test.head()"
   ]
  },
  {
   "cell_type": "code",
   "execution_count": 21,
   "id": "0e64fa2a",
   "metadata": {
    "execution": {
     "iopub.execute_input": "2024-09-03T18:06:47.766608Z",
     "iopub.status.busy": "2024-09-03T18:06:47.766195Z",
     "iopub.status.idle": "2024-09-03T18:06:49.943531Z",
     "shell.execute_reply": "2024-09-03T18:06:49.941660Z"
    },
    "papermill": {
     "duration": 2.192464,
     "end_time": "2024-09-03T18:06:49.946880",
     "exception": false,
     "start_time": "2024-09-03T18:06:47.754416",
     "status": "completed"
    },
    "tags": []
   },
   "outputs": [
    {
     "name": "stdout",
     "output_type": "stream",
     "text": [
      "Your submission was successfully saved!\n"
     ]
    }
   ],
   "source": [
    "# Make predictions on the test set\n",
    "test_predictions = full_pipeline.predict(X_test)\n",
    "\n",
    "# Round the predictions to two decimal places because its a price\n",
    "#test_predictions = np.round(test_predictions, 2)\n",
    "\n",
    "# Create the submission DataFrame\n",
    "submission = pd.DataFrame({\n",
    "    'id': df_test.index,\n",
    "    'price': test_predictions\n",
    "})\n",
    "\n",
    "# Save to CSV\n",
    "submission.to_csv('submission.csv', index=False)\n",
    "print(\"Your submission was successfully saved!\")\n"
   ]
  },
  {
   "cell_type": "code",
   "execution_count": 22,
   "id": "4977874a",
   "metadata": {
    "execution": {
     "iopub.execute_input": "2024-09-03T18:06:49.970456Z",
     "iopub.status.busy": "2024-09-03T18:06:49.970019Z",
     "iopub.status.idle": "2024-09-03T18:06:49.982886Z",
     "shell.execute_reply": "2024-09-03T18:06:49.981327Z"
    },
    "papermill": {
     "duration": 0.028042,
     "end_time": "2024-09-03T18:06:49.985878",
     "exception": false,
     "start_time": "2024-09-03T18:06:49.957836",
     "status": "completed"
    },
    "tags": []
   },
   "outputs": [
    {
     "data": {
      "text/html": [
       "<div>\n",
       "<style scoped>\n",
       "    .dataframe tbody tr th:only-of-type {\n",
       "        vertical-align: middle;\n",
       "    }\n",
       "\n",
       "    .dataframe tbody tr th {\n",
       "        vertical-align: top;\n",
       "    }\n",
       "\n",
       "    .dataframe thead th {\n",
       "        text-align: right;\n",
       "    }\n",
       "</style>\n",
       "<table border=\"1\" class=\"dataframe\">\n",
       "  <thead>\n",
       "    <tr style=\"text-align: right;\">\n",
       "      <th></th>\n",
       "      <th>id</th>\n",
       "      <th>price</th>\n",
       "    </tr>\n",
       "  </thead>\n",
       "  <tbody>\n",
       "    <tr>\n",
       "      <th>0</th>\n",
       "      <td>188533</td>\n",
       "      <td>16432.509652</td>\n",
       "    </tr>\n",
       "    <tr>\n",
       "      <th>1</th>\n",
       "      <td>188534</td>\n",
       "      <td>79462.542481</td>\n",
       "    </tr>\n",
       "    <tr>\n",
       "      <th>2</th>\n",
       "      <td>188535</td>\n",
       "      <td>57250.867844</td>\n",
       "    </tr>\n",
       "    <tr>\n",
       "      <th>3</th>\n",
       "      <td>188536</td>\n",
       "      <td>22161.364699</td>\n",
       "    </tr>\n",
       "    <tr>\n",
       "      <th>4</th>\n",
       "      <td>188537</td>\n",
       "      <td>30213.826731</td>\n",
       "    </tr>\n",
       "  </tbody>\n",
       "</table>\n",
       "</div>"
      ],
      "text/plain": [
       "       id         price\n",
       "0  188533  16432.509652\n",
       "1  188534  79462.542481\n",
       "2  188535  57250.867844\n",
       "3  188536  22161.364699\n",
       "4  188537  30213.826731"
      ]
     },
     "execution_count": 22,
     "metadata": {},
     "output_type": "execute_result"
    }
   ],
   "source": [
    "submission.head()"
   ]
  },
  {
   "cell_type": "code",
   "execution_count": null,
   "id": "742678ae",
   "metadata": {
    "papermill": {
     "duration": 0.012497,
     "end_time": "2024-09-03T18:06:50.010098",
     "exception": false,
     "start_time": "2024-09-03T18:06:49.997601",
     "status": "completed"
    },
    "tags": []
   },
   "outputs": [],
   "source": []
  }
 ],
 "metadata": {
  "kaggle": {
   "accelerator": "none",
   "dataSources": [
    {
     "databundleVersionId": 9057646,
     "sourceId": 76728,
     "sourceType": "competition"
    }
   ],
   "dockerImageVersionId": 30761,
   "isGpuEnabled": false,
   "isInternetEnabled": true,
   "language": "python",
   "sourceType": "notebook"
  },
  "kernelspec": {
   "display_name": "Python 3",
   "language": "python",
   "name": "python3"
  },
  "language_info": {
   "codemirror_mode": {
    "name": "ipython",
    "version": 3
   },
   "file_extension": ".py",
   "mimetype": "text/x-python",
   "name": "python",
   "nbconvert_exporter": "python",
   "pygments_lexer": "ipython3",
   "version": "3.10.14"
  },
  "papermill": {
   "default_parameters": {},
   "duration": 53.788104,
   "end_time": "2024-09-03T18:06:50.745690",
   "environment_variables": {},
   "exception": null,
   "input_path": "__notebook__.ipynb",
   "output_path": "__notebook__.ipynb",
   "parameters": {},
   "start_time": "2024-09-03T18:05:56.957586",
   "version": "2.6.0"
  }
 },
 "nbformat": 4,
 "nbformat_minor": 5
}

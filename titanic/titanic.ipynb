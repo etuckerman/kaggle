{
 "cells": [
  {
   "cell_type": "code",
   "execution_count": 1,
   "id": "090fd309",
   "metadata": {
    "_cell_guid": "b1076dfc-b9ad-4769-8c92-a6c4dae69d19",
    "_uuid": "8f2839f25d086af736a60e9eeb907d3b93b6e0e5",
    "execution": {
     "iopub.execute_input": "2024-09-03T16:26:30.442821Z",
     "iopub.status.busy": "2024-09-03T16:26:30.442373Z",
     "iopub.status.idle": "2024-09-03T16:26:32.924458Z",
     "shell.execute_reply": "2024-09-03T16:26:32.923159Z"
    },
    "papermill": {
     "duration": 2.491407,
     "end_time": "2024-09-03T16:26:32.927439",
     "exception": false,
     "start_time": "2024-09-03T16:26:30.436032",
     "status": "completed"
    },
    "tags": []
   },
   "outputs": [
    {
     "name": "stdout",
     "output_type": "stream",
     "text": [
      "/kaggle/input/titanic/train.csv\n",
      "/kaggle/input/titanic/test.csv\n",
      "/kaggle/input/titanic/gender_submission.csv\n"
     ]
    }
   ],
   "source": [
    "# This Python 3 environment comes with many helpful analytics libraries installed\n",
    "# It is defined by the kaggle/python Docker image: https://github.com/kaggle/docker-python\n",
    "# For example, here's several helpful packages to load\n",
    "\n",
    "import numpy as np\n",
    "import pandas as pd\n",
    "from sklearn.ensemble import RandomForestClassifier\n",
    "from sklearn.model_selection import GridSearchCV\n",
    "from sklearn.impute import SimpleImputer\n",
    "from sklearn.preprocessing import StandardScaler\n",
    "\n",
    "# Assuming you have your training and testing data in 'train_data' and 'test_data'\n",
    "\n",
    "# Input data files are available in the read-only \"../input/\" directory\n",
    "# For example, running this (by clicking run or pressing Shift+Enter) will list all files under the input directory\n",
    "\n",
    "import os\n",
    "for dirname, _, filenames in os.walk('/kaggle/input'):\n",
    "    for filename in filenames:\n",
    "        print(os.path.join(dirname, filename))\n",
    "\n",
    "# You can write up to 20GB to the current directory (/kaggle/working/) that gets preserved as output when you create a version using \"Save & Run All\" \n",
    "# You can also write temporary files to /kaggle/temp/, but they won't be saved outside of the current session"
   ]
  },
  {
   "cell_type": "code",
   "execution_count": 2,
   "id": "aa8eb744",
   "metadata": {
    "execution": {
     "iopub.execute_input": "2024-09-03T16:26:32.938387Z",
     "iopub.status.busy": "2024-09-03T16:26:32.937741Z",
     "iopub.status.idle": "2024-09-03T16:26:32.968079Z",
     "shell.execute_reply": "2024-09-03T16:26:32.966887Z"
    },
    "papermill": {
     "duration": 0.038454,
     "end_time": "2024-09-03T16:26:32.970621",
     "exception": false,
     "start_time": "2024-09-03T16:26:32.932167",
     "status": "completed"
    },
    "tags": []
   },
   "outputs": [],
   "source": [
    "# Load Data\n",
    "train_data = pd.read_csv(\"/kaggle/input/titanic/train.csv\")\n",
    "test_data = pd.read_csv(\"/kaggle/input/titanic/test.csv\")"
   ]
  },
  {
   "cell_type": "code",
   "execution_count": 3,
   "id": "523a1d5c",
   "metadata": {
    "execution": {
     "iopub.execute_input": "2024-09-03T16:26:32.981251Z",
     "iopub.status.busy": "2024-09-03T16:26:32.980326Z",
     "iopub.status.idle": "2024-09-03T16:26:32.987202Z",
     "shell.execute_reply": "2024-09-03T16:26:32.985988Z"
    },
    "papermill": {
     "duration": 0.014843,
     "end_time": "2024-09-03T16:26:32.989591",
     "exception": false,
     "start_time": "2024-09-03T16:26:32.974748",
     "status": "completed"
    },
    "tags": []
   },
   "outputs": [],
   "source": [
    "# Feature Engineering\n",
    "def feature_engineering(df):\n",
    "    df['FamilySize'] = df['SibSp'] + df['Parch'] + 1\n",
    "    df['IsAlone'] = (df['FamilySize'] == 1).astype(int)\n",
    "    df['Title'] = df['Name'].apply(lambda x: x.split(',')[1].split('.')[0].strip())\n",
    "    return df"
   ]
  },
  {
   "cell_type": "code",
   "execution_count": 4,
   "id": "6cfe86b6",
   "metadata": {
    "execution": {
     "iopub.execute_input": "2024-09-03T16:26:33.000067Z",
     "iopub.status.busy": "2024-09-03T16:26:32.999351Z",
     "iopub.status.idle": "2024-09-03T16:26:33.016869Z",
     "shell.execute_reply": "2024-09-03T16:26:33.015753Z"
    },
    "papermill": {
     "duration": 0.025875,
     "end_time": "2024-09-03T16:26:33.019578",
     "exception": false,
     "start_time": "2024-09-03T16:26:32.993703",
     "status": "completed"
    },
    "tags": []
   },
   "outputs": [],
   "source": [
    "train_data = feature_engineering(train_data)\n",
    "test_data = feature_engineering(test_data)"
   ]
  },
  {
   "cell_type": "code",
   "execution_count": 5,
   "id": "9a8e7205",
   "metadata": {
    "execution": {
     "iopub.execute_input": "2024-09-03T16:26:33.029880Z",
     "iopub.status.busy": "2024-09-03T16:26:33.029433Z",
     "iopub.status.idle": "2024-09-03T16:26:33.044200Z",
     "shell.execute_reply": "2024-09-03T16:26:33.042983Z"
    },
    "papermill": {
     "duration": 0.022821,
     "end_time": "2024-09-03T16:26:33.046626",
     "exception": false,
     "start_time": "2024-09-03T16:26:33.023805",
     "status": "completed"
    },
    "tags": []
   },
   "outputs": [],
   "source": [
    "# Handle Missing Values\n",
    "features = [\"Pclass\", \"Sex\", \"Age\", \"SibSp\", \"Parch\", \"FamilySize\", \"IsAlone\", \"Title\"]\n",
    "X = train_data[features]\n",
    "X_test = test_data[features]"
   ]
  },
  {
   "cell_type": "code",
   "execution_count": 6,
   "id": "3589bde9",
   "metadata": {
    "execution": {
     "iopub.execute_input": "2024-09-03T16:26:33.057305Z",
     "iopub.status.busy": "2024-09-03T16:26:33.056243Z",
     "iopub.status.idle": "2024-09-03T16:26:33.071617Z",
     "shell.execute_reply": "2024-09-03T16:26:33.070373Z"
    },
    "papermill": {
     "duration": 0.023239,
     "end_time": "2024-09-03T16:26:33.074128",
     "exception": false,
     "start_time": "2024-09-03T16:26:33.050889",
     "status": "completed"
    },
    "tags": []
   },
   "outputs": [],
   "source": [
    "# Encoding and Imputation\n",
    "X = pd.get_dummies(X)\n",
    "X_test = pd.get_dummies(X_test)"
   ]
  },
  {
   "cell_type": "code",
   "execution_count": 7,
   "id": "843b7a7e",
   "metadata": {
    "execution": {
     "iopub.execute_input": "2024-09-03T16:26:33.084736Z",
     "iopub.status.busy": "2024-09-03T16:26:33.083597Z",
     "iopub.status.idle": "2024-09-03T16:26:33.091828Z",
     "shell.execute_reply": "2024-09-03T16:26:33.090748Z"
    },
    "papermill": {
     "duration": 0.016054,
     "end_time": "2024-09-03T16:26:33.094282",
     "exception": false,
     "start_time": "2024-09-03T16:26:33.078228",
     "status": "completed"
    },
    "tags": []
   },
   "outputs": [],
   "source": [
    "# Align columns\n",
    "X, X_test = X.align(X_test, join='left', axis=1, fill_value=0)"
   ]
  },
  {
   "cell_type": "code",
   "execution_count": 8,
   "id": "ad7f0a91",
   "metadata": {
    "execution": {
     "iopub.execute_input": "2024-09-03T16:26:33.103966Z",
     "iopub.status.busy": "2024-09-03T16:26:33.103483Z",
     "iopub.status.idle": "2024-09-03T16:26:33.119858Z",
     "shell.execute_reply": "2024-09-03T16:26:33.118447Z"
    },
    "papermill": {
     "duration": 0.024977,
     "end_time": "2024-09-03T16:26:33.123280",
     "exception": false,
     "start_time": "2024-09-03T16:26:33.098303",
     "status": "completed"
    },
    "tags": []
   },
   "outputs": [],
   "source": [
    "# Impute missing values\n",
    "imputer = SimpleImputer(strategy='median')\n",
    "X['Age'] = imputer.fit_transform(X[['Age']])\n",
    "X_test['Age'] = imputer.transform(X_test[['Age']])"
   ]
  },
  {
   "cell_type": "code",
   "execution_count": 9,
   "id": "3e49fbba",
   "metadata": {
    "execution": {
     "iopub.execute_input": "2024-09-03T16:26:33.133218Z",
     "iopub.status.busy": "2024-09-03T16:26:33.132791Z",
     "iopub.status.idle": "2024-09-03T16:26:33.148135Z",
     "shell.execute_reply": "2024-09-03T16:26:33.146924Z"
    },
    "papermill": {
     "duration": 0.023023,
     "end_time": "2024-09-03T16:26:33.150492",
     "exception": false,
     "start_time": "2024-09-03T16:26:33.127469",
     "status": "completed"
    },
    "tags": []
   },
   "outputs": [],
   "source": [
    "# Standardize features\n",
    "scaler = StandardScaler()\n",
    "X[['Age', 'FamilySize']] = scaler.fit_transform(X[['Age', 'FamilySize']])\n",
    "X_test[['Age', 'FamilySize']] = scaler.transform(X_test[['Age', 'FamilySize']])"
   ]
  },
  {
   "cell_type": "code",
   "execution_count": 10,
   "id": "ef25f8ee",
   "metadata": {
    "execution": {
     "iopub.execute_input": "2024-09-03T16:26:33.160732Z",
     "iopub.status.busy": "2024-09-03T16:26:33.159995Z",
     "iopub.status.idle": "2024-09-03T16:26:33.165721Z",
     "shell.execute_reply": "2024-09-03T16:26:33.164368Z"
    },
    "papermill": {
     "duration": 0.013523,
     "end_time": "2024-09-03T16:26:33.168132",
     "exception": false,
     "start_time": "2024-09-03T16:26:33.154609",
     "status": "completed"
    },
    "tags": []
   },
   "outputs": [],
   "source": [
    "# Model\n",
    "y = train_data[\"Survived\"]\n",
    "model = RandomForestClassifier(random_state=1)"
   ]
  },
  {
   "cell_type": "code",
   "execution_count": 11,
   "id": "71a89a59",
   "metadata": {
    "execution": {
     "iopub.execute_input": "2024-09-03T16:26:33.178055Z",
     "iopub.status.busy": "2024-09-03T16:26:33.177620Z",
     "iopub.status.idle": "2024-09-03T16:27:53.724369Z",
     "shell.execute_reply": "2024-09-03T16:27:53.723079Z"
    },
    "papermill": {
     "duration": 80.558826,
     "end_time": "2024-09-03T16:27:53.731009",
     "exception": false,
     "start_time": "2024-09-03T16:26:33.172183",
     "status": "completed"
    },
    "tags": []
   },
   "outputs": [
    {
     "data": {
      "text/html": [
       "<style>#sk-container-id-1 {color: black;background-color: white;}#sk-container-id-1 pre{padding: 0;}#sk-container-id-1 div.sk-toggleable {background-color: white;}#sk-container-id-1 label.sk-toggleable__label {cursor: pointer;display: block;width: 100%;margin-bottom: 0;padding: 0.3em;box-sizing: border-box;text-align: center;}#sk-container-id-1 label.sk-toggleable__label-arrow:before {content: \"▸\";float: left;margin-right: 0.25em;color: #696969;}#sk-container-id-1 label.sk-toggleable__label-arrow:hover:before {color: black;}#sk-container-id-1 div.sk-estimator:hover label.sk-toggleable__label-arrow:before {color: black;}#sk-container-id-1 div.sk-toggleable__content {max-height: 0;max-width: 0;overflow: hidden;text-align: left;background-color: #f0f8ff;}#sk-container-id-1 div.sk-toggleable__content pre {margin: 0.2em;color: black;border-radius: 0.25em;background-color: #f0f8ff;}#sk-container-id-1 input.sk-toggleable__control:checked~div.sk-toggleable__content {max-height: 200px;max-width: 100%;overflow: auto;}#sk-container-id-1 input.sk-toggleable__control:checked~label.sk-toggleable__label-arrow:before {content: \"▾\";}#sk-container-id-1 div.sk-estimator input.sk-toggleable__control:checked~label.sk-toggleable__label {background-color: #d4ebff;}#sk-container-id-1 div.sk-label input.sk-toggleable__control:checked~label.sk-toggleable__label {background-color: #d4ebff;}#sk-container-id-1 input.sk-hidden--visually {border: 0;clip: rect(1px 1px 1px 1px);clip: rect(1px, 1px, 1px, 1px);height: 1px;margin: -1px;overflow: hidden;padding: 0;position: absolute;width: 1px;}#sk-container-id-1 div.sk-estimator {font-family: monospace;background-color: #f0f8ff;border: 1px dotted black;border-radius: 0.25em;box-sizing: border-box;margin-bottom: 0.5em;}#sk-container-id-1 div.sk-estimator:hover {background-color: #d4ebff;}#sk-container-id-1 div.sk-parallel-item::after {content: \"\";width: 100%;border-bottom: 1px solid gray;flex-grow: 1;}#sk-container-id-1 div.sk-label:hover label.sk-toggleable__label {background-color: #d4ebff;}#sk-container-id-1 div.sk-serial::before {content: \"\";position: absolute;border-left: 1px solid gray;box-sizing: border-box;top: 0;bottom: 0;left: 50%;z-index: 0;}#sk-container-id-1 div.sk-serial {display: flex;flex-direction: column;align-items: center;background-color: white;padding-right: 0.2em;padding-left: 0.2em;position: relative;}#sk-container-id-1 div.sk-item {position: relative;z-index: 1;}#sk-container-id-1 div.sk-parallel {display: flex;align-items: stretch;justify-content: center;background-color: white;position: relative;}#sk-container-id-1 div.sk-item::before, #sk-container-id-1 div.sk-parallel-item::before {content: \"\";position: absolute;border-left: 1px solid gray;box-sizing: border-box;top: 0;bottom: 0;left: 50%;z-index: -1;}#sk-container-id-1 div.sk-parallel-item {display: flex;flex-direction: column;z-index: 1;position: relative;background-color: white;}#sk-container-id-1 div.sk-parallel-item:first-child::after {align-self: flex-end;width: 50%;}#sk-container-id-1 div.sk-parallel-item:last-child::after {align-self: flex-start;width: 50%;}#sk-container-id-1 div.sk-parallel-item:only-child::after {width: 0;}#sk-container-id-1 div.sk-dashed-wrapped {border: 1px dashed gray;margin: 0 0.4em 0.5em 0.4em;box-sizing: border-box;padding-bottom: 0.4em;background-color: white;}#sk-container-id-1 div.sk-label label {font-family: monospace;font-weight: bold;display: inline-block;line-height: 1.2em;}#sk-container-id-1 div.sk-label-container {text-align: center;}#sk-container-id-1 div.sk-container {/* jupyter's `normalize.less` sets `[hidden] { display: none; }` but bootstrap.min.css set `[hidden] { display: none !important; }` so we also need the `!important` here to be able to override the default hidden behavior on the sphinx rendered scikit-learn.org. See: https://github.com/scikit-learn/scikit-learn/issues/21755 */display: inline-block !important;position: relative;}#sk-container-id-1 div.sk-text-repr-fallback {display: none;}</style><div id=\"sk-container-id-1\" class=\"sk-top-container\"><div class=\"sk-text-repr-fallback\"><pre>GridSearchCV(cv=5, estimator=RandomForestClassifier(random_state=1),\n",
       "             param_grid={&#x27;max_depth&#x27;: [5, 10, 15],\n",
       "                         &#x27;min_samples_leaf&#x27;: [1, 2, 4],\n",
       "                         &#x27;min_samples_split&#x27;: [2, 5, 10],\n",
       "                         &#x27;n_estimators&#x27;: [100, 200]},\n",
       "             scoring=&#x27;accuracy&#x27;)</pre><b>In a Jupyter environment, please rerun this cell to show the HTML representation or trust the notebook. <br />On GitHub, the HTML representation is unable to render, please try loading this page with nbviewer.org.</b></div><div class=\"sk-container\" hidden><div class=\"sk-item sk-dashed-wrapped\"><div class=\"sk-label-container\"><div class=\"sk-label sk-toggleable\"><input class=\"sk-toggleable__control sk-hidden--visually\" id=\"sk-estimator-id-1\" type=\"checkbox\" ><label for=\"sk-estimator-id-1\" class=\"sk-toggleable__label sk-toggleable__label-arrow\">GridSearchCV</label><div class=\"sk-toggleable__content\"><pre>GridSearchCV(cv=5, estimator=RandomForestClassifier(random_state=1),\n",
       "             param_grid={&#x27;max_depth&#x27;: [5, 10, 15],\n",
       "                         &#x27;min_samples_leaf&#x27;: [1, 2, 4],\n",
       "                         &#x27;min_samples_split&#x27;: [2, 5, 10],\n",
       "                         &#x27;n_estimators&#x27;: [100, 200]},\n",
       "             scoring=&#x27;accuracy&#x27;)</pre></div></div></div><div class=\"sk-parallel\"><div class=\"sk-parallel-item\"><div class=\"sk-item\"><div class=\"sk-label-container\"><div class=\"sk-label sk-toggleable\"><input class=\"sk-toggleable__control sk-hidden--visually\" id=\"sk-estimator-id-2\" type=\"checkbox\" ><label for=\"sk-estimator-id-2\" class=\"sk-toggleable__label sk-toggleable__label-arrow\">estimator: RandomForestClassifier</label><div class=\"sk-toggleable__content\"><pre>RandomForestClassifier(random_state=1)</pre></div></div></div><div class=\"sk-serial\"><div class=\"sk-item\"><div class=\"sk-estimator sk-toggleable\"><input class=\"sk-toggleable__control sk-hidden--visually\" id=\"sk-estimator-id-3\" type=\"checkbox\" ><label for=\"sk-estimator-id-3\" class=\"sk-toggleable__label sk-toggleable__label-arrow\">RandomForestClassifier</label><div class=\"sk-toggleable__content\"><pre>RandomForestClassifier(random_state=1)</pre></div></div></div></div></div></div></div></div></div></div>"
      ],
      "text/plain": [
       "GridSearchCV(cv=5, estimator=RandomForestClassifier(random_state=1),\n",
       "             param_grid={'max_depth': [5, 10, 15],\n",
       "                         'min_samples_leaf': [1, 2, 4],\n",
       "                         'min_samples_split': [2, 5, 10],\n",
       "                         'n_estimators': [100, 200]},\n",
       "             scoring='accuracy')"
      ]
     },
     "execution_count": 11,
     "metadata": {},
     "output_type": "execute_result"
    }
   ],
   "source": [
    "# Hyperparameter Tuning\n",
    "param_grid = {\n",
    "    'n_estimators': [100, 200],\n",
    "    'max_depth': [5, 10, 15],\n",
    "    'min_samples_split': [2, 5, 10],\n",
    "    'min_samples_leaf': [1, 2, 4]\n",
    "}\n",
    "grid_search = GridSearchCV(model, param_grid, cv=5, scoring='accuracy')\n",
    "grid_search.fit(X, y)"
   ]
  },
  {
   "cell_type": "code",
   "execution_count": 12,
   "id": "8cc7fdc6",
   "metadata": {
    "execution": {
     "iopub.execute_input": "2024-09-03T16:27:53.741346Z",
     "iopub.status.busy": "2024-09-03T16:27:53.740924Z",
     "iopub.status.idle": "2024-09-03T16:27:53.766986Z",
     "shell.execute_reply": "2024-09-03T16:27:53.766017Z"
    },
    "papermill": {
     "duration": 0.034401,
     "end_time": "2024-09-03T16:27:53.769658",
     "exception": false,
     "start_time": "2024-09-03T16:27:53.735257",
     "status": "completed"
    },
    "tags": []
   },
   "outputs": [],
   "source": [
    "# Predictions\n",
    "best_model = grid_search.best_estimator_\n",
    "predictions = best_model.predict(X_test)"
   ]
  },
  {
   "cell_type": "code",
   "execution_count": 13,
   "id": "bf6a0673",
   "metadata": {
    "execution": {
     "iopub.execute_input": "2024-09-03T16:27:53.779816Z",
     "iopub.status.busy": "2024-09-03T16:27:53.779412Z",
     "iopub.status.idle": "2024-09-03T16:27:53.790998Z",
     "shell.execute_reply": "2024-09-03T16:27:53.789670Z"
    },
    "papermill": {
     "duration": 0.019654,
     "end_time": "2024-09-03T16:27:53.793528",
     "exception": false,
     "start_time": "2024-09-03T16:27:53.773874",
     "status": "completed"
    },
    "tags": []
   },
   "outputs": [
    {
     "name": "stdout",
     "output_type": "stream",
     "text": [
      "Your submission was successfully saved!\n"
     ]
    }
   ],
   "source": [
    "# Output\n",
    "output = pd.DataFrame({'PassengerId': test_data.PassengerId, 'Survived': predictions})\n",
    "output.to_csv('submission.csv', index=False)\n",
    "print(\"Your submission was successfully saved!\")"
   ]
  }
 ],
 "metadata": {
  "kaggle": {
   "accelerator": "none",
   "dataSources": [
    {
     "databundleVersionId": 26502,
     "sourceId": 3136,
     "sourceType": "competition"
    }
   ],
   "dockerImageVersionId": 30761,
   "isGpuEnabled": false,
   "isInternetEnabled": true,
   "language": "python",
   "sourceType": "notebook"
  },
  "kernelspec": {
   "display_name": "Python 3",
   "language": "python",
   "name": "python3"
  },
  "language_info": {
   "codemirror_mode": {
    "name": "ipython",
    "version": 3
   },
   "file_extension": ".py",
   "mimetype": "text/x-python",
   "name": "python",
   "nbconvert_exporter": "python",
   "pygments_lexer": "ipython3",
   "version": "3.10.14"
  },
  "papermill": {
   "default_parameters": {},
   "duration": 87.195801,
   "end_time": "2024-09-03T16:27:54.419250",
   "environment_variables": {},
   "exception": null,
   "input_path": "__notebook__.ipynb",
   "output_path": "__notebook__.ipynb",
   "parameters": {},
   "start_time": "2024-09-03T16:26:27.223449",
   "version": "2.6.0"
  }
 },
 "nbformat": 4,
 "nbformat_minor": 5
}

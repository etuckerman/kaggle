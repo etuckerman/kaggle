{
 "cells": [
  {
   "cell_type": "code",
   "execution_count": 1,
   "id": "3139d0c0",
   "metadata": {
    "_cell_guid": "b1076dfc-b9ad-4769-8c92-a6c4dae69d19",
    "_uuid": "8f2839f25d086af736a60e9eeb907d3b93b6e0e5",
    "execution": {
     "iopub.execute_input": "2024-09-03T16:07:45.020035Z",
     "iopub.status.busy": "2024-09-03T16:07:45.019428Z",
     "iopub.status.idle": "2024-09-03T16:07:47.564799Z",
     "shell.execute_reply": "2024-09-03T16:07:47.562976Z"
    },
    "papermill": {
     "duration": 2.558078,
     "end_time": "2024-09-03T16:07:47.567891",
     "exception": false,
     "start_time": "2024-09-03T16:07:45.009813",
     "status": "completed"
    },
    "tags": []
   },
   "outputs": [
    {
     "name": "stdout",
     "output_type": "stream",
     "text": [
      "/kaggle/input/titanic/train.csv\n",
      "/kaggle/input/titanic/test.csv\n",
      "/kaggle/input/titanic/gender_submission.csv\n"
     ]
    }
   ],
   "source": [
    "# This Python 3 environment comes with many helpful analytics libraries installed\n",
    "# It is defined by the kaggle/python Docker image: https://github.com/kaggle/docker-python\n",
    "# For example, here's several helpful packages to load\n",
    "\n",
    "import numpy as np # linear algebra\n",
    "import pandas as pd # data processing, CSV file I/O (e.g. pd.read_csv)\n",
    "from sklearn.model_selection import train_test_split\n",
    "from sklearn.preprocessing import LabelEncoder, StandardScaler\n",
    "from sklearn.linear_model import LogisticRegression\n",
    "from sklearn.model_selection import GridSearchCV\n",
    "from sklearn.metrics import accuracy_score\n",
    "\n",
    "# Assuming you have your training and testing data in 'train_data' and 'test_data'\n",
    "\n",
    "# Input data files are available in the read-only \"../input/\" directory\n",
    "# For example, running this (by clicking run or pressing Shift+Enter) will list all files under the input directory\n",
    "\n",
    "import os\n",
    "for dirname, _, filenames in os.walk('/kaggle/input'):\n",
    "    for filename in filenames:\n",
    "        print(os.path.join(dirname, filename))\n",
    "\n",
    "# You can write up to 20GB to the current directory (/kaggle/working/) that gets preserved as output when you create a version using \"Save & Run All\" \n",
    "# You can also write temporary files to /kaggle/temp/, but they won't be saved outside of the current session"
   ]
  },
  {
   "cell_type": "code",
   "execution_count": 2,
   "id": "2770ddb8",
   "metadata": {
    "execution": {
     "iopub.execute_input": "2024-09-03T16:07:47.583685Z",
     "iopub.status.busy": "2024-09-03T16:07:47.582370Z",
     "iopub.status.idle": "2024-09-03T16:07:47.704913Z",
     "shell.execute_reply": "2024-09-03T16:07:47.703604Z"
    },
    "papermill": {
     "duration": 0.133362,
     "end_time": "2024-09-03T16:07:47.707902",
     "exception": false,
     "start_time": "2024-09-03T16:07:47.574540",
     "status": "completed"
    },
    "tags": []
   },
   "outputs": [],
   "source": [
    "# Load data\n",
    "train_data = pd.read_csv(\"/kaggle/input/titanic/train.csv\")\n",
    "test_data = pd.read_csv(\"/kaggle/input/titanic/test.csv\")"
   ]
  },
  {
   "cell_type": "code",
   "execution_count": 3,
   "id": "07c09902",
   "metadata": {
    "execution": {
     "iopub.execute_input": "2024-09-03T16:07:47.722757Z",
     "iopub.status.busy": "2024-09-03T16:07:47.722189Z",
     "iopub.status.idle": "2024-09-03T16:07:47.742968Z",
     "shell.execute_reply": "2024-09-03T16:07:47.741590Z"
    },
    "papermill": {
     "duration": 0.031345,
     "end_time": "2024-09-03T16:07:47.745613",
     "exception": false,
     "start_time": "2024-09-03T16:07:47.714268",
     "status": "completed"
    },
    "tags": []
   },
   "outputs": [],
   "source": [
    "# Extracting Title from the Name column\n",
    "train_data['Title'] = train_data['Name'].apply(lambda x: x.split(',')[1].split('.')[0].strip())\n",
    "test_data['Title'] = test_data['Name'].apply(lambda x: x.split(',')[1].split('.')[0].strip())"
   ]
  },
  {
   "cell_type": "code",
   "execution_count": 4,
   "id": "280eff19",
   "metadata": {
    "execution": {
     "iopub.execute_input": "2024-09-03T16:07:47.764339Z",
     "iopub.status.busy": "2024-09-03T16:07:47.763798Z",
     "iopub.status.idle": "2024-09-03T16:07:47.785491Z",
     "shell.execute_reply": "2024-09-03T16:07:47.784196Z"
    },
    "papermill": {
     "duration": 0.035686,
     "end_time": "2024-09-03T16:07:47.788612",
     "exception": false,
     "start_time": "2024-09-03T16:07:47.752926",
     "status": "completed"
    },
    "tags": []
   },
   "outputs": [],
   "source": [
    "# Handle missing values for numerical columns\n",
    "numerical_cols = ['Age', 'Fare']\n",
    "train_data[numerical_cols] = train_data[numerical_cols].fillna(train_data[numerical_cols].mean())\n",
    "test_data[numerical_cols] = test_data[numerical_cols].fillna(test_data[numerical_cols].mean())"
   ]
  },
  {
   "cell_type": "code",
   "execution_count": 5,
   "id": "df5f0ea4",
   "metadata": {
    "execution": {
     "iopub.execute_input": "2024-09-03T16:07:47.809229Z",
     "iopub.status.busy": "2024-09-03T16:07:47.808251Z",
     "iopub.status.idle": "2024-09-03T16:07:47.841739Z",
     "shell.execute_reply": "2024-09-03T16:07:47.840434Z"
    },
    "papermill": {
     "duration": 0.047584,
     "end_time": "2024-09-03T16:07:47.845558",
     "exception": false,
     "start_time": "2024-09-03T16:07:47.797974",
     "status": "completed"
    },
    "tags": []
   },
   "outputs": [],
   "source": [
    "# Handle missing values for categorical columns\n",
    "categorical_cols = ['Pclass', 'Sex', 'Embarked', 'Title']\n",
    "train_data[categorical_cols] = train_data[categorical_cols].fillna(train_data[categorical_cols].mode().iloc[0])\n",
    "test_data[categorical_cols] = test_data[categorical_cols].fillna(test_data[categorical_cols].mode().iloc[0])"
   ]
  },
  {
   "cell_type": "code",
   "execution_count": 6,
   "id": "e6c88dea",
   "metadata": {
    "execution": {
     "iopub.execute_input": "2024-09-03T16:07:47.866922Z",
     "iopub.status.busy": "2024-09-03T16:07:47.866019Z",
     "iopub.status.idle": "2024-09-03T16:07:47.874651Z",
     "shell.execute_reply": "2024-09-03T16:07:47.873125Z"
    },
    "papermill": {
     "duration": 0.023119,
     "end_time": "2024-09-03T16:07:47.878064",
     "exception": false,
     "start_time": "2024-09-03T16:07:47.854945",
     "status": "completed"
    },
    "tags": []
   },
   "outputs": [],
   "source": [
    "# Combine family members\n",
    "train_data['FamilySize'] = train_data['SibSp'] + train_data['Parch'] + 1\n",
    "test_data['FamilySize'] = test_data['SibSp'] + test_data['Parch'] + 1"
   ]
  },
  {
   "cell_type": "code",
   "execution_count": 7,
   "id": "1a98ae15",
   "metadata": {
    "execution": {
     "iopub.execute_input": "2024-09-03T16:07:47.896191Z",
     "iopub.status.busy": "2024-09-03T16:07:47.895654Z",
     "iopub.status.idle": "2024-09-03T16:07:48.087320Z",
     "shell.execute_reply": "2024-09-03T16:07:48.086105Z"
    },
    "papermill": {
     "duration": 0.203102,
     "end_time": "2024-09-03T16:07:48.090487",
     "exception": false,
     "start_time": "2024-09-03T16:07:47.887385",
     "status": "completed"
    },
    "tags": []
   },
   "outputs": [],
   "source": [
    "# Encode categorical features\n",
    "label_encoders = {}\n",
    "for col in categorical_cols:\n",
    "    label_encoders[col] = LabelEncoder()\n",
    "    train_data[col] = label_encoders[col].fit_transform(train_data[col])\n",
    "    test_data[col] = test_data[col].apply(lambda x: label_encoders[col].transform([x])[0]\n",
    "                                          if x in label_encoders[col].classes_ \n",
    "                                          else -1)"
   ]
  },
  {
   "cell_type": "code",
   "execution_count": 8,
   "id": "cf49d111",
   "metadata": {
    "execution": {
     "iopub.execute_input": "2024-09-03T16:07:48.105585Z",
     "iopub.status.busy": "2024-09-03T16:07:48.105074Z",
     "iopub.status.idle": "2024-09-03T16:07:48.124159Z",
     "shell.execute_reply": "2024-09-03T16:07:48.122536Z"
    },
    "papermill": {
     "duration": 0.030201,
     "end_time": "2024-09-03T16:07:48.127107",
     "exception": false,
     "start_time": "2024-09-03T16:07:48.096906",
     "status": "completed"
    },
    "tags": []
   },
   "outputs": [],
   "source": [
    "# Feature scaling\n",
    "scaler = StandardScaler()\n",
    "features = ['Pclass', 'Fare', 'Age', 'SibSp', 'Parch', 'FamilySize', 'Title']\n",
    "train_data[features] = scaler.fit_transform(train_data[features])\n",
    "test_data[features] = scaler.transform(test_data[features])"
   ]
  },
  {
   "cell_type": "code",
   "execution_count": 9,
   "id": "9b5a3870",
   "metadata": {
    "execution": {
     "iopub.execute_input": "2024-09-03T16:07:48.142671Z",
     "iopub.status.busy": "2024-09-03T16:07:48.141388Z",
     "iopub.status.idle": "2024-09-03T16:07:48.151014Z",
     "shell.execute_reply": "2024-09-03T16:07:48.149327Z"
    },
    "papermill": {
     "duration": 0.020247,
     "end_time": "2024-09-03T16:07:48.153725",
     "exception": false,
     "start_time": "2024-09-03T16:07:48.133478",
     "status": "completed"
    },
    "tags": []
   },
   "outputs": [],
   "source": [
    "# Define target and features\n",
    "y = train_data['Survived']\n",
    "X = train_data[features]\n",
    "X_test = test_data[features]"
   ]
  },
  {
   "cell_type": "code",
   "execution_count": 10,
   "id": "44a15dd5",
   "metadata": {
    "execution": {
     "iopub.execute_input": "2024-09-03T16:07:48.169906Z",
     "iopub.status.busy": "2024-09-03T16:07:48.169416Z",
     "iopub.status.idle": "2024-09-03T16:07:48.175478Z",
     "shell.execute_reply": "2024-09-03T16:07:48.174179Z"
    },
    "papermill": {
     "duration": 0.017911,
     "end_time": "2024-09-03T16:07:48.178268",
     "exception": false,
     "start_time": "2024-09-03T16:07:48.160357",
     "status": "completed"
    },
    "tags": []
   },
   "outputs": [],
   "source": [
    "# Create logistic regression model with regularization\n",
    "model = LogisticRegression(penalty='l1', solver='liblinear')"
   ]
  },
  {
   "cell_type": "code",
   "execution_count": 11,
   "id": "d27061d8",
   "metadata": {
    "execution": {
     "iopub.execute_input": "2024-09-03T16:07:48.194936Z",
     "iopub.status.busy": "2024-09-03T16:07:48.194405Z",
     "iopub.status.idle": "2024-09-03T16:07:48.201673Z",
     "shell.execute_reply": "2024-09-03T16:07:48.199746Z"
    },
    "papermill": {
     "duration": 0.0203,
     "end_time": "2024-09-03T16:07:48.205544",
     "exception": false,
     "start_time": "2024-09-03T16:07:48.185244",
     "status": "completed"
    },
    "tags": []
   },
   "outputs": [],
   "source": [
    "# Define hyperparameter grid for tuning\n",
    "param_grid = {'C': [0.001, 0.01, 0.1, 1, 10]}"
   ]
  },
  {
   "cell_type": "code",
   "execution_count": 12,
   "id": "846bd0df",
   "metadata": {
    "execution": {
     "iopub.execute_input": "2024-09-03T16:07:48.224955Z",
     "iopub.status.busy": "2024-09-03T16:07:48.224469Z",
     "iopub.status.idle": "2024-09-03T16:07:48.231243Z",
     "shell.execute_reply": "2024-09-03T16:07:48.229611Z"
    },
    "papermill": {
     "duration": 0.019134,
     "end_time": "2024-09-03T16:07:48.234300",
     "exception": false,
     "start_time": "2024-09-03T16:07:48.215166",
     "status": "completed"
    },
    "tags": []
   },
   "outputs": [],
   "source": [
    "# Create grid search object\n",
    "grid_search = GridSearchCV(model, param_grid, cv=5)"
   ]
  },
  {
   "cell_type": "code",
   "execution_count": 13,
   "id": "9522bebb",
   "metadata": {
    "execution": {
     "iopub.execute_input": "2024-09-03T16:07:48.250085Z",
     "iopub.status.busy": "2024-09-03T16:07:48.249632Z",
     "iopub.status.idle": "2024-09-03T16:07:48.474677Z",
     "shell.execute_reply": "2024-09-03T16:07:48.473437Z"
    },
    "papermill": {
     "duration": 0.236071,
     "end_time": "2024-09-03T16:07:48.477339",
     "exception": false,
     "start_time": "2024-09-03T16:07:48.241268",
     "status": "completed"
    },
    "tags": []
   },
   "outputs": [
    {
     "data": {
      "text/html": [
       "<style>#sk-container-id-1 {color: black;background-color: white;}#sk-container-id-1 pre{padding: 0;}#sk-container-id-1 div.sk-toggleable {background-color: white;}#sk-container-id-1 label.sk-toggleable__label {cursor: pointer;display: block;width: 100%;margin-bottom: 0;padding: 0.3em;box-sizing: border-box;text-align: center;}#sk-container-id-1 label.sk-toggleable__label-arrow:before {content: \"▸\";float: left;margin-right: 0.25em;color: #696969;}#sk-container-id-1 label.sk-toggleable__label-arrow:hover:before {color: black;}#sk-container-id-1 div.sk-estimator:hover label.sk-toggleable__label-arrow:before {color: black;}#sk-container-id-1 div.sk-toggleable__content {max-height: 0;max-width: 0;overflow: hidden;text-align: left;background-color: #f0f8ff;}#sk-container-id-1 div.sk-toggleable__content pre {margin: 0.2em;color: black;border-radius: 0.25em;background-color: #f0f8ff;}#sk-container-id-1 input.sk-toggleable__control:checked~div.sk-toggleable__content {max-height: 200px;max-width: 100%;overflow: auto;}#sk-container-id-1 input.sk-toggleable__control:checked~label.sk-toggleable__label-arrow:before {content: \"▾\";}#sk-container-id-1 div.sk-estimator input.sk-toggleable__control:checked~label.sk-toggleable__label {background-color: #d4ebff;}#sk-container-id-1 div.sk-label input.sk-toggleable__control:checked~label.sk-toggleable__label {background-color: #d4ebff;}#sk-container-id-1 input.sk-hidden--visually {border: 0;clip: rect(1px 1px 1px 1px);clip: rect(1px, 1px, 1px, 1px);height: 1px;margin: -1px;overflow: hidden;padding: 0;position: absolute;width: 1px;}#sk-container-id-1 div.sk-estimator {font-family: monospace;background-color: #f0f8ff;border: 1px dotted black;border-radius: 0.25em;box-sizing: border-box;margin-bottom: 0.5em;}#sk-container-id-1 div.sk-estimator:hover {background-color: #d4ebff;}#sk-container-id-1 div.sk-parallel-item::after {content: \"\";width: 100%;border-bottom: 1px solid gray;flex-grow: 1;}#sk-container-id-1 div.sk-label:hover label.sk-toggleable__label {background-color: #d4ebff;}#sk-container-id-1 div.sk-serial::before {content: \"\";position: absolute;border-left: 1px solid gray;box-sizing: border-box;top: 0;bottom: 0;left: 50%;z-index: 0;}#sk-container-id-1 div.sk-serial {display: flex;flex-direction: column;align-items: center;background-color: white;padding-right: 0.2em;padding-left: 0.2em;position: relative;}#sk-container-id-1 div.sk-item {position: relative;z-index: 1;}#sk-container-id-1 div.sk-parallel {display: flex;align-items: stretch;justify-content: center;background-color: white;position: relative;}#sk-container-id-1 div.sk-item::before, #sk-container-id-1 div.sk-parallel-item::before {content: \"\";position: absolute;border-left: 1px solid gray;box-sizing: border-box;top: 0;bottom: 0;left: 50%;z-index: -1;}#sk-container-id-1 div.sk-parallel-item {display: flex;flex-direction: column;z-index: 1;position: relative;background-color: white;}#sk-container-id-1 div.sk-parallel-item:first-child::after {align-self: flex-end;width: 50%;}#sk-container-id-1 div.sk-parallel-item:last-child::after {align-self: flex-start;width: 50%;}#sk-container-id-1 div.sk-parallel-item:only-child::after {width: 0;}#sk-container-id-1 div.sk-dashed-wrapped {border: 1px dashed gray;margin: 0 0.4em 0.5em 0.4em;box-sizing: border-box;padding-bottom: 0.4em;background-color: white;}#sk-container-id-1 div.sk-label label {font-family: monospace;font-weight: bold;display: inline-block;line-height: 1.2em;}#sk-container-id-1 div.sk-label-container {text-align: center;}#sk-container-id-1 div.sk-container {/* jupyter's `normalize.less` sets `[hidden] { display: none; }` but bootstrap.min.css set `[hidden] { display: none !important; }` so we also need the `!important` here to be able to override the default hidden behavior on the sphinx rendered scikit-learn.org. See: https://github.com/scikit-learn/scikit-learn/issues/21755 */display: inline-block !important;position: relative;}#sk-container-id-1 div.sk-text-repr-fallback {display: none;}</style><div id=\"sk-container-id-1\" class=\"sk-top-container\"><div class=\"sk-text-repr-fallback\"><pre>GridSearchCV(cv=5,\n",
       "             estimator=LogisticRegression(penalty=&#x27;l1&#x27;, solver=&#x27;liblinear&#x27;),\n",
       "             param_grid={&#x27;C&#x27;: [0.001, 0.01, 0.1, 1, 10]})</pre><b>In a Jupyter environment, please rerun this cell to show the HTML representation or trust the notebook. <br />On GitHub, the HTML representation is unable to render, please try loading this page with nbviewer.org.</b></div><div class=\"sk-container\" hidden><div class=\"sk-item sk-dashed-wrapped\"><div class=\"sk-label-container\"><div class=\"sk-label sk-toggleable\"><input class=\"sk-toggleable__control sk-hidden--visually\" id=\"sk-estimator-id-1\" type=\"checkbox\" ><label for=\"sk-estimator-id-1\" class=\"sk-toggleable__label sk-toggleable__label-arrow\">GridSearchCV</label><div class=\"sk-toggleable__content\"><pre>GridSearchCV(cv=5,\n",
       "             estimator=LogisticRegression(penalty=&#x27;l1&#x27;, solver=&#x27;liblinear&#x27;),\n",
       "             param_grid={&#x27;C&#x27;: [0.001, 0.01, 0.1, 1, 10]})</pre></div></div></div><div class=\"sk-parallel\"><div class=\"sk-parallel-item\"><div class=\"sk-item\"><div class=\"sk-label-container\"><div class=\"sk-label sk-toggleable\"><input class=\"sk-toggleable__control sk-hidden--visually\" id=\"sk-estimator-id-2\" type=\"checkbox\" ><label for=\"sk-estimator-id-2\" class=\"sk-toggleable__label sk-toggleable__label-arrow\">estimator: LogisticRegression</label><div class=\"sk-toggleable__content\"><pre>LogisticRegression(penalty=&#x27;l1&#x27;, solver=&#x27;liblinear&#x27;)</pre></div></div></div><div class=\"sk-serial\"><div class=\"sk-item\"><div class=\"sk-estimator sk-toggleable\"><input class=\"sk-toggleable__control sk-hidden--visually\" id=\"sk-estimator-id-3\" type=\"checkbox\" ><label for=\"sk-estimator-id-3\" class=\"sk-toggleable__label sk-toggleable__label-arrow\">LogisticRegression</label><div class=\"sk-toggleable__content\"><pre>LogisticRegression(penalty=&#x27;l1&#x27;, solver=&#x27;liblinear&#x27;)</pre></div></div></div></div></div></div></div></div></div></div>"
      ],
      "text/plain": [
       "GridSearchCV(cv=5,\n",
       "             estimator=LogisticRegression(penalty='l1', solver='liblinear'),\n",
       "             param_grid={'C': [0.001, 0.01, 0.1, 1, 10]})"
      ]
     },
     "execution_count": 13,
     "metadata": {},
     "output_type": "execute_result"
    }
   ],
   "source": [
    "# Fit the model with grid search\n",
    "grid_search.fit(X, y)"
   ]
  },
  {
   "cell_type": "code",
   "execution_count": 14,
   "id": "146f16e9",
   "metadata": {
    "execution": {
     "iopub.execute_input": "2024-09-03T16:07:48.492581Z",
     "iopub.status.busy": "2024-09-03T16:07:48.492088Z",
     "iopub.status.idle": "2024-09-03T16:07:48.497696Z",
     "shell.execute_reply": "2024-09-03T16:07:48.496338Z"
    },
    "papermill": {
     "duration": 0.016449,
     "end_time": "2024-09-03T16:07:48.500432",
     "exception": false,
     "start_time": "2024-09-03T16:07:48.483983",
     "status": "completed"
    },
    "tags": []
   },
   "outputs": [],
   "source": [
    "# Get the best model\n",
    "best_model = grid_search.best_estimator_"
   ]
  },
  {
   "cell_type": "code",
   "execution_count": 15,
   "id": "65bb6c06",
   "metadata": {
    "execution": {
     "iopub.execute_input": "2024-09-03T16:07:48.515554Z",
     "iopub.status.busy": "2024-09-03T16:07:48.515053Z",
     "iopub.status.idle": "2024-09-03T16:07:48.522919Z",
     "shell.execute_reply": "2024-09-03T16:07:48.521793Z"
    },
    "papermill": {
     "duration": 0.018495,
     "end_time": "2024-09-03T16:07:48.525566",
     "exception": false,
     "start_time": "2024-09-03T16:07:48.507071",
     "status": "completed"
    },
    "tags": []
   },
   "outputs": [],
   "source": [
    "# Predict on the test set (no accuracy check here)\n",
    "predictions = best_model.predict(X_test)"
   ]
  },
  {
   "cell_type": "code",
   "execution_count": 16,
   "id": "faa8e11c",
   "metadata": {
    "execution": {
     "iopub.execute_input": "2024-09-03T16:07:48.541316Z",
     "iopub.status.busy": "2024-09-03T16:07:48.540848Z",
     "iopub.status.idle": "2024-09-03T16:07:48.553121Z",
     "shell.execute_reply": "2024-09-03T16:07:48.551866Z"
    },
    "papermill": {
     "duration": 0.02365,
     "end_time": "2024-09-03T16:07:48.555902",
     "exception": false,
     "start_time": "2024-09-03T16:07:48.532252",
     "status": "completed"
    },
    "tags": []
   },
   "outputs": [
    {
     "name": "stdout",
     "output_type": "stream",
     "text": [
      "Your submission was successfully saved!\n"
     ]
    }
   ],
   "source": [
    "# Create output DataFrame\n",
    "output = pd.DataFrame({'PassengerId': test_data.PassengerId, 'Survived': predictions})\n",
    "output.to_csv('submission.csv', index=False)\n",
    "print(\"Your submission was successfully saved!\")"
   ]
  }
 ],
 "metadata": {
  "kaggle": {
   "accelerator": "none",
   "dataSources": [
    {
     "databundleVersionId": 26502,
     "sourceId": 3136,
     "sourceType": "competition"
    }
   ],
   "dockerImageVersionId": 30761,
   "isGpuEnabled": false,
   "isInternetEnabled": true,
   "language": "python",
   "sourceType": "notebook"
  },
  "kernelspec": {
   "display_name": "Python 3",
   "language": "python",
   "name": "python3"
  },
  "language_info": {
   "codemirror_mode": {
    "name": "ipython",
    "version": 3
   },
   "file_extension": ".py",
   "mimetype": "text/x-python",
   "name": "python",
   "nbconvert_exporter": "python",
   "pygments_lexer": "ipython3",
   "version": "3.10.14"
  },
  "papermill": {
   "default_parameters": {},
   "duration": 7.668709,
   "end_time": "2024-09-03T16:07:49.287343",
   "environment_variables": {},
   "exception": null,
   "input_path": "__notebook__.ipynb",
   "output_path": "__notebook__.ipynb",
   "parameters": {},
   "start_time": "2024-09-03T16:07:41.618634",
   "version": "2.6.0"
  }
 },
 "nbformat": 4,
 "nbformat_minor": 5
}
